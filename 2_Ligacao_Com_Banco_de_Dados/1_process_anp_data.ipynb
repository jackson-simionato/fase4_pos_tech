{
 "cells": [
  {
   "cell_type": "code",
   "execution_count": 49,
   "metadata": {},
   "outputs": [],
   "source": [
    "import pandas as pd\n",
    "import os, datetime\n",
    "import psycopg2\n",
    "from sqlalchemy import create_engine"
   ]
  },
  {
   "cell_type": "markdown",
   "metadata": {},
   "source": [
    "# Lista de arquivos"
   ]
  },
  {
   "cell_type": "code",
   "execution_count": null,
   "metadata": {},
   "outputs": [],
   "source": [
    "data_folder = '../dados/anp_combustivel/'\n",
    "\n",
    "list_csvs = [os.path.join(data_folder, file) for file in os.listdir(data_folder)]\n",
    "\n",
    "print(list_csvs)"
   ]
  },
  {
   "cell_type": "markdown",
   "metadata": {},
   "source": [
    "# Nomes de colunas"
   ]
  },
  {
   "cell_type": "code",
   "execution_count": 37,
   "metadata": {},
   "outputs": [],
   "source": [
    "new_cols = ['regiao','uf','municipio','revenda','cnpj','nome_rua','numero_rua','complemento',\n",
    "'bairro','cep','produto','data_coleta','valor_venda','valor_compra','unidade_medida','bandeira']"
   ]
  },
  {
   "cell_type": "markdown",
   "metadata": {},
   "source": [
    "# Concatenação de csvs e conversão de tipos de dados"
   ]
  },
  {
   "cell_type": "code",
   "execution_count": 44,
   "metadata": {},
   "outputs": [
    {
     "name": "stdout",
     "output_type": "stream",
     "text": [
      "../dados/anp_combustivel/ca-2018-01.csv\n",
      "../dados/anp_combustivel/ca-2018-02.csv\n",
      "../dados/anp_combustivel/ca-2019-01.csv\n",
      "../dados/anp_combustivel/ca-2019-02.csv\n",
      "../dados/anp_combustivel/ca-2020-01.csv\n",
      "../dados/anp_combustivel/ca-2020-02.csv\n"
     ]
    },
    {
     "name": "stderr",
     "output_type": "stream",
     "text": [
      "C:\\Users\\jacks\\AppData\\Local\\Temp\\ipykernel_13960\\2545707987.py:7: DtypeWarning: Columns (13) have mixed types. Specify dtype option on import or set low_memory=False.\n",
      "  df_anp = pd.read_csv(file, sep=';', encoding='utf-8')\n"
     ]
    },
    {
     "name": "stdout",
     "output_type": "stream",
     "text": [
      "../dados/anp_combustivel/ca-2021-01.csv\n",
      "../dados/anp_combustivel/ca-2021-02.csv\n",
      "../dados/anp_combustivel/ca-2022-01.csv\n",
      "../dados/anp_combustivel/ca-2022-02.csv\n"
     ]
    }
   ],
   "source": [
    "final_df_anp = pd.DataFrame()\n",
    "\n",
    "for file in list_csvs:\n",
    "    print(file)\n",
    "\n",
    "    try:\n",
    "        df_anp = pd.read_csv(file, sep=';', encoding='utf-8')\n",
    "    except:\n",
    "        df_anp = pd.read_csv(file, sep=';', encoding='latin-1')\n",
    "\n",
    "\n",
    "    df_anp[['Valor de Venda','Valor de Compra']] = df_anp[['Valor de Venda','Valor de Compra']].astype(str).apply(lambda x: x.str.replace(',','.'))\n",
    "    df_anp[['Valor de Venda','Valor de Compra']] = df_anp[['Valor de Venda','Valor de Compra']].astype(float)\n",
    "\n",
    "    df_anp['Data da Coleta'] = pd.to_datetime(df_anp['Data da Coleta'], format='%d/%m/%Y')\n",
    "\n",
    "    if len(final_df_anp) == 0:\n",
    "        final_df_anp = df_anp.copy()\n",
    "    else:\n",
    "        final_df_anp = pd.concat([final_df_anp, df_anp], axis=0)\n",
    "\n",
    "final_df_anp.columns = new_cols"
   ]
  },
  {
   "cell_type": "markdown",
   "metadata": {},
   "source": [
    "# Seleção de colunas de interesse"
   ]
  },
  {
   "cell_type": "code",
   "execution_count": 48,
   "metadata": {},
   "outputs": [
    {
     "data": {
      "text/html": [
       "<div>\n",
       "<style scoped>\n",
       "    .dataframe tbody tr th:only-of-type {\n",
       "        vertical-align: middle;\n",
       "    }\n",
       "\n",
       "    .dataframe tbody tr th {\n",
       "        vertical-align: top;\n",
       "    }\n",
       "\n",
       "    .dataframe thead th {\n",
       "        text-align: right;\n",
       "    }\n",
       "</style>\n",
       "<table border=\"1\" class=\"dataframe\">\n",
       "  <thead>\n",
       "    <tr style=\"text-align: right;\">\n",
       "      <th></th>\n",
       "      <th>regiao</th>\n",
       "      <th>uf</th>\n",
       "      <th>municipio</th>\n",
       "      <th>revenda</th>\n",
       "      <th>cnpj</th>\n",
       "      <th>nome_rua</th>\n",
       "      <th>numero_rua</th>\n",
       "      <th>complemento</th>\n",
       "      <th>bairro</th>\n",
       "      <th>cep</th>\n",
       "      <th>produto</th>\n",
       "      <th>data_coleta</th>\n",
       "      <th>valor_venda</th>\n",
       "      <th>unidade_medida</th>\n",
       "      <th>bandeira</th>\n",
       "    </tr>\n",
       "  </thead>\n",
       "  <tbody>\n",
       "    <tr>\n",
       "      <th>0</th>\n",
       "      <td>NE</td>\n",
       "      <td>BA</td>\n",
       "      <td>SALVADOR</td>\n",
       "      <td>PETROBRAS DISTRIBUIDORA S.A.</td>\n",
       "      <td>34.274.233/0015-08</td>\n",
       "      <td>RUA EDISTIO PONDE</td>\n",
       "      <td>474</td>\n",
       "      <td>NaN</td>\n",
       "      <td>STIEP</td>\n",
       "      <td>41770-395</td>\n",
       "      <td>GNV</td>\n",
       "      <td>2018-01-02</td>\n",
       "      <td>2.370</td>\n",
       "      <td>R$ / m³</td>\n",
       "      <td>PETROBRAS DISTRIBUIDORA S.A.</td>\n",
       "    </tr>\n",
       "    <tr>\n",
       "      <th>1</th>\n",
       "      <td>NE</td>\n",
       "      <td>BA</td>\n",
       "      <td>SALVADOR</td>\n",
       "      <td>PETROBRAS DISTRIBUIDORA S.A.</td>\n",
       "      <td>34.274.233/0015-08</td>\n",
       "      <td>RUA EDISTIO PONDE</td>\n",
       "      <td>474</td>\n",
       "      <td>NaN</td>\n",
       "      <td>STIEP</td>\n",
       "      <td>41770-395</td>\n",
       "      <td>DIESEL S10</td>\n",
       "      <td>2018-01-02</td>\n",
       "      <td>3.240</td>\n",
       "      <td>R$ / litro</td>\n",
       "      <td>PETROBRAS DISTRIBUIDORA S.A.</td>\n",
       "    </tr>\n",
       "    <tr>\n",
       "      <th>2</th>\n",
       "      <td>NE</td>\n",
       "      <td>BA</td>\n",
       "      <td>SALVADOR</td>\n",
       "      <td>PETROBRAS DISTRIBUIDORA S.A.</td>\n",
       "      <td>34.274.233/0015-08</td>\n",
       "      <td>RUA EDISTIO PONDE</td>\n",
       "      <td>474</td>\n",
       "      <td>NaN</td>\n",
       "      <td>STIEP</td>\n",
       "      <td>41770-395</td>\n",
       "      <td>ETANOL</td>\n",
       "      <td>2018-01-02</td>\n",
       "      <td>2.930</td>\n",
       "      <td>R$ / litro</td>\n",
       "      <td>PETROBRAS DISTRIBUIDORA S.A.</td>\n",
       "    </tr>\n",
       "    <tr>\n",
       "      <th>3</th>\n",
       "      <td>NE</td>\n",
       "      <td>BA</td>\n",
       "      <td>SALVADOR</td>\n",
       "      <td>PETROBRAS DISTRIBUIDORA S.A.</td>\n",
       "      <td>34.274.233/0015-08</td>\n",
       "      <td>RUA EDISTIO PONDE</td>\n",
       "      <td>474</td>\n",
       "      <td>NaN</td>\n",
       "      <td>STIEP</td>\n",
       "      <td>41770-395</td>\n",
       "      <td>GASOLINA</td>\n",
       "      <td>2018-01-02</td>\n",
       "      <td>3.620</td>\n",
       "      <td>R$ / litro</td>\n",
       "      <td>PETROBRAS DISTRIBUIDORA S.A.</td>\n",
       "    </tr>\n",
       "    <tr>\n",
       "      <th>4</th>\n",
       "      <td>S</td>\n",
       "      <td>RS</td>\n",
       "      <td>CANOAS</td>\n",
       "      <td>METROPOLITANO COMERCIO DE COMBUSTIVEIS LTDA</td>\n",
       "      <td>88.587.589/0001-17</td>\n",
       "      <td>AVENIDA GUILHERME SCHELL</td>\n",
       "      <td>6340</td>\n",
       "      <td>NaN</td>\n",
       "      <td>CENTRO</td>\n",
       "      <td>92310-000</td>\n",
       "      <td>GNV</td>\n",
       "      <td>2018-01-02</td>\n",
       "      <td>2.699</td>\n",
       "      <td>R$ / m³</td>\n",
       "      <td>BRANCA</td>\n",
       "    </tr>\n",
       "  </tbody>\n",
       "</table>\n",
       "</div>"
      ],
      "text/plain": [
       "  regiao  uf municipio                                      revenda  \\\n",
       "0     NE  BA  SALVADOR                 PETROBRAS DISTRIBUIDORA S.A.   \n",
       "1     NE  BA  SALVADOR                 PETROBRAS DISTRIBUIDORA S.A.   \n",
       "2     NE  BA  SALVADOR                 PETROBRAS DISTRIBUIDORA S.A.   \n",
       "3     NE  BA  SALVADOR                 PETROBRAS DISTRIBUIDORA S.A.   \n",
       "4      S  RS    CANOAS  METROPOLITANO COMERCIO DE COMBUSTIVEIS LTDA   \n",
       "\n",
       "                  cnpj                  nome_rua numero_rua complemento  \\\n",
       "0   34.274.233/0015-08         RUA EDISTIO PONDE        474         NaN   \n",
       "1   34.274.233/0015-08         RUA EDISTIO PONDE        474         NaN   \n",
       "2   34.274.233/0015-08         RUA EDISTIO PONDE        474         NaN   \n",
       "3   34.274.233/0015-08         RUA EDISTIO PONDE        474         NaN   \n",
       "4   88.587.589/0001-17  AVENIDA GUILHERME SCHELL       6340         NaN   \n",
       "\n",
       "   bairro        cep     produto data_coleta  valor_venda unidade_medida  \\\n",
       "0   STIEP  41770-395         GNV  2018-01-02        2.370        R$ / m³   \n",
       "1   STIEP  41770-395  DIESEL S10  2018-01-02        3.240     R$ / litro   \n",
       "2   STIEP  41770-395      ETANOL  2018-01-02        2.930     R$ / litro   \n",
       "3   STIEP  41770-395    GASOLINA  2018-01-02        3.620     R$ / litro   \n",
       "4  CENTRO  92310-000         GNV  2018-01-02        2.699        R$ / m³   \n",
       "\n",
       "                       bandeira  \n",
       "0  PETROBRAS DISTRIBUIDORA S.A.  \n",
       "1  PETROBRAS DISTRIBUIDORA S.A.  \n",
       "2  PETROBRAS DISTRIBUIDORA S.A.  \n",
       "3  PETROBRAS DISTRIBUIDORA S.A.  \n",
       "4                        BRANCA  "
      ]
     },
     "execution_count": 48,
     "metadata": {},
     "output_type": "execute_result"
    }
   ],
   "source": [
    "final_df_anp_db = final_df_anp.drop(columns=['valor_compra'])\n",
    "final_df_anp_db.head()"
   ]
  },
  {
   "cell_type": "markdown",
   "metadata": {},
   "source": [
    "# Conexão com banco"
   ]
  },
  {
   "cell_type": "code",
   "execution_count": 57,
   "metadata": {},
   "outputs": [],
   "source": [
    "user = 'postgres'\n",
    "password = 'postgres'\n",
    "host = 'localhost:5432'\n",
    "database = 'ANP'\n",
    "table_name = 'preco_combustivel'\n",
    "schema_name = 'anp'\n",
    "\n",
    "conn_string = f'postgresql+psycopg2://{user}:{password}@{host}/{database}'\n"
   ]
  },
  {
   "cell_type": "code",
   "execution_count": 58,
   "metadata": {},
   "outputs": [],
   "source": [
    "engine = create_engine(conn_string)"
   ]
  },
  {
   "cell_type": "code",
   "execution_count": 59,
   "metadata": {},
   "outputs": [],
   "source": [
    "final_df_anp_db.to_sql(name=table_name, con=engine, schema=schema_name, if_exists='replace', index=False)"
   ]
  }
 ],
 "metadata": {
  "kernelspec": {
   "display_name": "tech_challenge",
   "language": "python",
   "name": "python3"
  },
  "language_info": {
   "codemirror_mode": {
    "name": "ipython",
    "version": 3
   },
   "file_extension": ".py",
   "mimetype": "text/x-python",
   "name": "python",
   "nbconvert_exporter": "python",
   "pygments_lexer": "ipython3",
   "version": "3.11.4"
  }
 },
 "nbformat": 4,
 "nbformat_minor": 2
}
