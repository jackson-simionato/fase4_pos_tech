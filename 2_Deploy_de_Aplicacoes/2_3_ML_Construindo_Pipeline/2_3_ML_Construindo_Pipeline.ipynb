{
 "cells": [
  {
   "cell_type": "code",
   "execution_count": 1,
   "metadata": {},
   "outputs": [],
   "source": [
    "import pandas as pd\n",
    "import numpy as np\n",
    "from sklearn.model_selection import train_test_split"
   ]
  },
  {
   "cell_type": "code",
   "execution_count": 2,
   "metadata": {},
   "outputs": [],
   "source": [
    "df_clientes = pd.read_csv('../../dados/credit_score/df_clientes_variavel_target.csv')"
   ]
  },
  {
   "cell_type": "markdown",
   "metadata": {},
   "source": [
    "# Train Test Split"
   ]
  },
  {
   "cell_type": "code",
   "execution_count": 3,
   "metadata": {},
   "outputs": [],
   "source": [
    "SEED = 42"
   ]
  },
  {
   "cell_type": "code",
   "execution_count": 4,
   "metadata": {},
   "outputs": [],
   "source": [
    "df_train, df_test = train_test_split(df_clientes, test_size=0.25, random_state=SEED)"
   ]
  },
  {
   "cell_type": "code",
   "execution_count": 5,
   "metadata": {},
   "outputs": [
    {
     "name": "stdout",
     "output_type": "stream",
     "text": [
      "(21307, 16) (7103, 16)\n"
     ]
    }
   ],
   "source": [
    "print(df_train.shape, df_test.shape)"
   ]
  },
  {
   "cell_type": "code",
   "execution_count": 6,
   "metadata": {},
   "outputs": [],
   "source": [
    "df_train.to_csv('../../dados/credit_score/df_clientes_train.csv', index=False)\n",
    "df_test.to_csv('../../dados/credit_score/df_clientes_test.csv', index=False)"
   ]
  },
  {
   "cell_type": "code",
   "execution_count": 7,
   "metadata": {},
   "outputs": [
    {
     "data": {
      "text/html": [
       "<div>\n",
       "<style scoped>\n",
       "    .dataframe tbody tr th:only-of-type {\n",
       "        vertical-align: middle;\n",
       "    }\n",
       "\n",
       "    .dataframe tbody tr th {\n",
       "        vertical-align: top;\n",
       "    }\n",
       "\n",
       "    .dataframe thead th {\n",
       "        text-align: right;\n",
       "    }\n",
       "</style>\n",
       "<table border=\"1\" class=\"dataframe\">\n",
       "  <thead>\n",
       "    <tr style=\"text-align: right;\">\n",
       "      <th></th>\n",
       "      <th>ID_Cliente</th>\n",
       "      <th>Tem_carro</th>\n",
       "      <th>Tem_casa_propria</th>\n",
       "      <th>Tem_telefone_trabalho</th>\n",
       "      <th>Tem_telefone_fixo</th>\n",
       "      <th>Tem_email</th>\n",
       "      <th>Idade</th>\n",
       "      <th>Anos_empregado</th>\n",
       "      <th>Tamanho_familia</th>\n",
       "      <th>Rendimento_anual</th>\n",
       "      <th>Categoria_de_renda</th>\n",
       "      <th>Grau_escolaridade</th>\n",
       "      <th>Estado_civil</th>\n",
       "      <th>Moradia</th>\n",
       "      <th>Ocupacao</th>\n",
       "      <th>Risco_de_credito</th>\n",
       "    </tr>\n",
       "  </thead>\n",
       "  <tbody>\n",
       "    <tr>\n",
       "      <th>25545</th>\n",
       "      <td>5139901</td>\n",
       "      <td>1</td>\n",
       "      <td>0</td>\n",
       "      <td>0</td>\n",
       "      <td>0</td>\n",
       "      <td>0</td>\n",
       "      <td>40</td>\n",
       "      <td>16</td>\n",
       "      <td>3</td>\n",
       "      <td>166500.0</td>\n",
       "      <td>Servidor público</td>\n",
       "      <td>Ensino superior</td>\n",
       "      <td>Casado</td>\n",
       "      <td>Casa/apartamento próprio</td>\n",
       "      <td>Servidor público</td>\n",
       "      <td>0</td>\n",
       "    </tr>\n",
       "    <tr>\n",
       "      <th>23467</th>\n",
       "      <td>5125393</td>\n",
       "      <td>1</td>\n",
       "      <td>0</td>\n",
       "      <td>0</td>\n",
       "      <td>0</td>\n",
       "      <td>0</td>\n",
       "      <td>50</td>\n",
       "      <td>2</td>\n",
       "      <td>2</td>\n",
       "      <td>292500.0</td>\n",
       "      <td>Empregado</td>\n",
       "      <td>Ensino superior</td>\n",
       "      <td>Casado</td>\n",
       "      <td>Casa/apartamento próprio</td>\n",
       "      <td>Gerência</td>\n",
       "      <td>0</td>\n",
       "    </tr>\n",
       "    <tr>\n",
       "      <th>11611</th>\n",
       "      <td>5061611</td>\n",
       "      <td>1</td>\n",
       "      <td>1</td>\n",
       "      <td>0</td>\n",
       "      <td>1</td>\n",
       "      <td>0</td>\n",
       "      <td>31</td>\n",
       "      <td>2</td>\n",
       "      <td>3</td>\n",
       "      <td>225000.0</td>\n",
       "      <td>Empregado</td>\n",
       "      <td>Ensino médio</td>\n",
       "      <td>Casado</td>\n",
       "      <td>Casa/apartamento próprio</td>\n",
       "      <td>Motorista</td>\n",
       "      <td>0</td>\n",
       "    </tr>\n",
       "    <tr>\n",
       "      <th>21871</th>\n",
       "      <td>5115941</td>\n",
       "      <td>0</td>\n",
       "      <td>1</td>\n",
       "      <td>0</td>\n",
       "      <td>0</td>\n",
       "      <td>0</td>\n",
       "      <td>44</td>\n",
       "      <td>25</td>\n",
       "      <td>2</td>\n",
       "      <td>112500.0</td>\n",
       "      <td>Empregado</td>\n",
       "      <td>Ensino médio</td>\n",
       "      <td>Casado</td>\n",
       "      <td>Apartamento alugado</td>\n",
       "      <td>Vendas</td>\n",
       "      <td>0</td>\n",
       "    </tr>\n",
       "    <tr>\n",
       "      <th>1768</th>\n",
       "      <td>5021664</td>\n",
       "      <td>0</td>\n",
       "      <td>1</td>\n",
       "      <td>1</td>\n",
       "      <td>0</td>\n",
       "      <td>0</td>\n",
       "      <td>38</td>\n",
       "      <td>2</td>\n",
       "      <td>3</td>\n",
       "      <td>225000.0</td>\n",
       "      <td>Empregado</td>\n",
       "      <td>Ensino médio</td>\n",
       "      <td>Casado</td>\n",
       "      <td>Casa/apartamento próprio</td>\n",
       "      <td>Construção Civil</td>\n",
       "      <td>0</td>\n",
       "    </tr>\n",
       "    <tr>\n",
       "      <th>...</th>\n",
       "      <td>...</td>\n",
       "      <td>...</td>\n",
       "      <td>...</td>\n",
       "      <td>...</td>\n",
       "      <td>...</td>\n",
       "      <td>...</td>\n",
       "      <td>...</td>\n",
       "      <td>...</td>\n",
       "      <td>...</td>\n",
       "      <td>...</td>\n",
       "      <td>...</td>\n",
       "      <td>...</td>\n",
       "      <td>...</td>\n",
       "      <td>...</td>\n",
       "      <td>...</td>\n",
       "      <td>...</td>\n",
       "    </tr>\n",
       "    <tr>\n",
       "      <th>21575</th>\n",
       "      <td>5115429</td>\n",
       "      <td>1</td>\n",
       "      <td>1</td>\n",
       "      <td>0</td>\n",
       "      <td>0</td>\n",
       "      <td>0</td>\n",
       "      <td>35</td>\n",
       "      <td>9</td>\n",
       "      <td>4</td>\n",
       "      <td>202500.0</td>\n",
       "      <td>Associado comercial</td>\n",
       "      <td>Ensino médio</td>\n",
       "      <td>Casado</td>\n",
       "      <td>Casa/apartamento próprio</td>\n",
       "      <td>Associado comercial</td>\n",
       "      <td>0</td>\n",
       "    </tr>\n",
       "    <tr>\n",
       "      <th>5390</th>\n",
       "      <td>5033714</td>\n",
       "      <td>0</td>\n",
       "      <td>1</td>\n",
       "      <td>1</td>\n",
       "      <td>1</td>\n",
       "      <td>0</td>\n",
       "      <td>38</td>\n",
       "      <td>8</td>\n",
       "      <td>3</td>\n",
       "      <td>135000.0</td>\n",
       "      <td>Empregado</td>\n",
       "      <td>Ensino médio</td>\n",
       "      <td>Casado</td>\n",
       "      <td>Casa/apartamento próprio</td>\n",
       "      <td>Segurança</td>\n",
       "      <td>0</td>\n",
       "    </tr>\n",
       "    <tr>\n",
       "      <th>860</th>\n",
       "      <td>5010126</td>\n",
       "      <td>0</td>\n",
       "      <td>1</td>\n",
       "      <td>1</td>\n",
       "      <td>1</td>\n",
       "      <td>1</td>\n",
       "      <td>35</td>\n",
       "      <td>6</td>\n",
       "      <td>4</td>\n",
       "      <td>270000.0</td>\n",
       "      <td>Empregado</td>\n",
       "      <td>Ensino médio</td>\n",
       "      <td>Casado</td>\n",
       "      <td>Casa/apartamento próprio</td>\n",
       "      <td>Gerência</td>\n",
       "      <td>0</td>\n",
       "    </tr>\n",
       "    <tr>\n",
       "      <th>15795</th>\n",
       "      <td>5089368</td>\n",
       "      <td>0</td>\n",
       "      <td>0</td>\n",
       "      <td>0</td>\n",
       "      <td>1</td>\n",
       "      <td>0</td>\n",
       "      <td>61</td>\n",
       "      <td>0</td>\n",
       "      <td>1</td>\n",
       "      <td>202500.0</td>\n",
       "      <td>Pensionista</td>\n",
       "      <td>Ensino médio</td>\n",
       "      <td>Solteiro</td>\n",
       "      <td>Casa/apartamento próprio</td>\n",
       "      <td>Pensionista</td>\n",
       "      <td>0</td>\n",
       "    </tr>\n",
       "    <tr>\n",
       "      <th>23654</th>\n",
       "      <td>5125730</td>\n",
       "      <td>1</td>\n",
       "      <td>1</td>\n",
       "      <td>0</td>\n",
       "      <td>1</td>\n",
       "      <td>0</td>\n",
       "      <td>36</td>\n",
       "      <td>9</td>\n",
       "      <td>3</td>\n",
       "      <td>119700.0</td>\n",
       "      <td>Empregado</td>\n",
       "      <td>Ensino superior</td>\n",
       "      <td>Casado</td>\n",
       "      <td>Casa/apartamento próprio</td>\n",
       "      <td>Outro</td>\n",
       "      <td>0</td>\n",
       "    </tr>\n",
       "  </tbody>\n",
       "</table>\n",
       "<p>21307 rows × 16 columns</p>\n",
       "</div>"
      ],
      "text/plain": [
       "       ID_Cliente  Tem_carro  Tem_casa_propria  Tem_telefone_trabalho  \\\n",
       "25545     5139901          1                 0                      0   \n",
       "23467     5125393          1                 0                      0   \n",
       "11611     5061611          1                 1                      0   \n",
       "21871     5115941          0                 1                      0   \n",
       "1768      5021664          0                 1                      1   \n",
       "...           ...        ...               ...                    ...   \n",
       "21575     5115429          1                 1                      0   \n",
       "5390      5033714          0                 1                      1   \n",
       "860       5010126          0                 1                      1   \n",
       "15795     5089368          0                 0                      0   \n",
       "23654     5125730          1                 1                      0   \n",
       "\n",
       "       Tem_telefone_fixo  Tem_email  Idade  Anos_empregado  Tamanho_familia  \\\n",
       "25545                  0          0     40              16                3   \n",
       "23467                  0          0     50               2                2   \n",
       "11611                  1          0     31               2                3   \n",
       "21871                  0          0     44              25                2   \n",
       "1768                   0          0     38               2                3   \n",
       "...                  ...        ...    ...             ...              ...   \n",
       "21575                  0          0     35               9                4   \n",
       "5390                   1          0     38               8                3   \n",
       "860                    1          1     35               6                4   \n",
       "15795                  1          0     61               0                1   \n",
       "23654                  1          0     36               9                3   \n",
       "\n",
       "       Rendimento_anual   Categoria_de_renda Grau_escolaridade Estado_civil  \\\n",
       "25545          166500.0     Servidor público   Ensino superior       Casado   \n",
       "23467          292500.0            Empregado   Ensino superior       Casado   \n",
       "11611          225000.0            Empregado      Ensino médio       Casado   \n",
       "21871          112500.0            Empregado      Ensino médio       Casado   \n",
       "1768           225000.0            Empregado      Ensino médio       Casado   \n",
       "...                 ...                  ...               ...          ...   \n",
       "21575          202500.0  Associado comercial      Ensino médio       Casado   \n",
       "5390           135000.0            Empregado      Ensino médio       Casado   \n",
       "860            270000.0            Empregado      Ensino médio       Casado   \n",
       "15795          202500.0          Pensionista      Ensino médio     Solteiro   \n",
       "23654          119700.0            Empregado   Ensino superior       Casado   \n",
       "\n",
       "                        Moradia             Ocupacao  Risco_de_credito  \n",
       "25545  Casa/apartamento próprio     Servidor público                 0  \n",
       "23467  Casa/apartamento próprio             Gerência                 0  \n",
       "11611  Casa/apartamento próprio            Motorista                 0  \n",
       "21871       Apartamento alugado               Vendas                 0  \n",
       "1768   Casa/apartamento próprio     Construção Civil                 0  \n",
       "...                         ...                  ...               ...  \n",
       "21575  Casa/apartamento próprio  Associado comercial                 0  \n",
       "5390   Casa/apartamento próprio            Segurança                 0  \n",
       "860    Casa/apartamento próprio             Gerência                 0  \n",
       "15795  Casa/apartamento próprio          Pensionista                 0  \n",
       "23654  Casa/apartamento próprio                Outro                 0  \n",
       "\n",
       "[21307 rows x 16 columns]"
      ]
     },
     "execution_count": 7,
     "metadata": {},
     "output_type": "execute_result"
    }
   ],
   "source": [
    "df_train"
   ]
  },
  {
   "cell_type": "markdown",
   "metadata": {},
   "source": [
    "# Criação pipeline"
   ]
  },
  {
   "cell_type": "code",
   "execution_count": 42,
   "metadata": {},
   "outputs": [],
   "source": [
    "from sklearn.base import BaseEstimator, TransformerMixin\n",
    "from sklearn.preprocessing import MinMaxScaler, OneHotEncoder, OrdinalEncoder\n",
    "from imblearn.over_sampling import SMOTE"
   ]
  },
  {
   "cell_type": "markdown",
   "metadata": {},
   "source": [
    "## Drop ID_Cliente"
   ]
  },
  {
   "cell_type": "code",
   "execution_count": 43,
   "metadata": {},
   "outputs": [],
   "source": [
    "class DropFeatures(BaseEstimator, TransformerMixin):\n",
    "    def __init__(self, feature_to_drop='ID_Cliente') -> None:\n",
    "        self.feature_to_drop = feature_to_drop\n",
    "\n",
    "    def fit(self, df):\n",
    "        return self\n",
    "    \n",
    "    def transform(self, df):\n",
    "        if self.feature_to_drop in df.columns:\n",
    "            drop_df = df.drop(columns=[self.feature_to_drop])\n",
    "            return drop_df\n",
    "        else:\n",
    "            print(f'Variável {self.feature_to_drop} não encontrada no dataframe')\n",
    "            return df"
   ]
  },
  {
   "cell_type": "markdown",
   "metadata": {},
   "source": [
    "## MinMaxScaler"
   ]
  },
  {
   "cell_type": "code",
   "execution_count": 44,
   "metadata": {},
   "outputs": [],
   "source": [
    "class MinMax(BaseEstimator, TransformerMixin):\n",
    "    def __init__(self, min_max_scaler=['Idade', 'Anos_empregado', 'Tamanho_familia','Rendimento_anual']):\n",
    "        self.min_max_scaler = min_max_scaler\n",
    "\n",
    "    def fit(self, df):\n",
    "        return self\n",
    "    \n",
    "    def transform(self, df):\n",
    "        if set(self.min_max_scaler).issubset(df.columns):\n",
    "            scaler = MinMaxScaler()\n",
    "            df[self.min_max_scaler] = scaler.fit_transform(df[self.min_max_scaler])\n",
    "\n",
    "            return df\n",
    "        else:\n",
    "            print(f'Colunas {[col for col in self.min_max_scaler if col not in df.columns]} não encontradas')\n",
    "            return df"
   ]
  },
  {
   "cell_type": "markdown",
   "metadata": {},
   "source": [
    "## OneHotEncoding"
   ]
  },
  {
   "cell_type": "code",
   "execution_count": 66,
   "metadata": {},
   "outputs": [],
   "source": [
    "class OneHotEncoding(BaseEstimator, TransformerMixin):\n",
    "    def __init__(self, one_hot_encoder=['Categoria_de_renda','Estado_civil','Moradia','Ocupacao']):\n",
    "        self.one_hot_encoder = one_hot_encoder\n",
    "\n",
    "    def fit(self, df):\n",
    "        return self\n",
    "    \n",
    "    def transform(self, df):\n",
    "        if set(self.one_hot_encoder).issubset(df.columns):\n",
    "            def one_hot_enc(df, one_hot_encoder):\n",
    "                one_hot_enc = OneHotEncoder()\n",
    "                one_hot_enc.fit(df[one_hot_encoder])\n",
    "                feature_names = one_hot_enc.get_feature_names_out(one_hot_encoder)\n",
    "                df = pd.DataFrame(one_hot_enc.transform(df[self.one_hot_encoder]).toarray(),\n",
    "                                columns=feature_names, index=df.index)\n",
    "                df[feature_names] = df[feature_names].astype(int)\n",
    "            \n",
    "                return df\n",
    "            \n",
    "            def concat_result(df, one_hot_enc_df, one_hot_encoder):\n",
    "                other_features = [column for column in df.columns if column not in one_hot_encoder]\n",
    "                df_concat = pd.concat([df[other_features], one_hot_enc_df], axis=1)\n",
    "\n",
    "                return df_concat\n",
    "            \n",
    "            df_OneHotEncoding = one_hot_enc(df, self.one_hot_encoder)\n",
    "            df_final = concat_result(df, df_OneHotEncoding, self.one_hot_encoder)\n",
    "\n",
    "            return df_final\n",
    "            \n",
    "        else:\n",
    "            print(f'Colunas {[col for col in self.one_hot_encoder if col not in df.columns]} não encontradas')\n",
    "            return df\n"
   ]
  },
  {
   "cell_type": "markdown",
   "metadata": {},
   "source": [
    "## OrdinalEncoding"
   ]
  },
  {
   "cell_type": "code",
   "execution_count": 75,
   "metadata": {},
   "outputs": [],
   "source": [
    "class OrdinalFeature(BaseEstimator, TransformerMixin):\n",
    "    def __init__(self, ordinal_feature=['Grau_escolaridade']):\n",
    "        self.ordinal_feature = ordinal_feature\n",
    "\n",
    "    def fit(self, df):\n",
    "        return self\n",
    "    \n",
    "    def transform(self, df):\n",
    "        if self.ordinal_feature[0] in df.columns:\n",
    "            ordinal_encoder = OrdinalEncoder(dtype=int)\n",
    "            df[self.ordinal_feature] = ordinal_encoder.fit_transform(df[self.ordinal_feature])\n",
    "\n",
    "            return df\n",
    "        else:\n",
    "            print(f'Variável {self.ordinal_feature} não encontrada no dataframe!')\n",
    "            return df"
   ]
  },
  {
   "cell_type": "markdown",
   "metadata": {},
   "source": [
    "## Oversample"
   ]
  },
  {
   "cell_type": "code",
   "execution_count": 61,
   "metadata": {},
   "outputs": [],
   "source": [
    "class OverSample(BaseEstimator, TransformerMixin):\n",
    "    def __init__(self):\n",
    "        pass\n",
    "\n",
    "    def fit(self, df):\n",
    "        return self\n",
    "    \n",
    "    def transform(self, df):\n",
    "        oversampler = SMOTE(sampling_strategy='minority')\n",
    "        x_bal, y_bal = oversampler.fit_resample(df.drop(columns=['Risco_de_credito']), df['Risco_de_credito'])\n",
    "        df_bal = pd.concat([pd.DataFrame(x_bal), pd.DataFrame(y_bal)], axis=1)\n",
    "\n",
    "        return df_bal"
   ]
  },
  {
   "cell_type": "markdown",
   "metadata": {},
   "source": [
    "# Rodando pipeline"
   ]
  },
  {
   "cell_type": "code",
   "execution_count": 62,
   "metadata": {},
   "outputs": [],
   "source": [
    "from sklearn.pipeline import Pipeline"
   ]
  },
  {
   "cell_type": "code",
   "execution_count": 63,
   "metadata": {},
   "outputs": [],
   "source": [
    "def pipeline_ml(df):\n",
    "    pipeline = Pipeline([\n",
    "        ('feature_dropper', DropFeatures()),\n",
    "        ('scaler', MinMax()),\n",
    "        ('one_hot_encoder', OneHotEncoding()),\n",
    "        ('ordinal_encoder', OrdinalFeature()),\n",
    "        ('oversample', OverSample())\n",
    "    ])\n",
    "\n",
    "    df_pipeline = pipeline.fit_transform(df)\n",
    "    return df_pipeline"
   ]
  },
  {
   "cell_type": "code",
   "execution_count": 83,
   "metadata": {},
   "outputs": [],
   "source": [
    "df_train_clean = pipeline_ml(df_train)"
   ]
  },
  {
   "cell_type": "code",
   "execution_count": 84,
   "metadata": {},
   "outputs": [],
   "source": [
    "df_test_clean = pipeline_ml(df_test)"
   ]
  },
  {
   "cell_type": "code",
   "execution_count": 86,
   "metadata": {},
   "outputs": [
    {
     "name": "stdout",
     "output_type": "stream",
     "text": [
      "(7103, 16)\n",
      "(13924, 50)\n"
     ]
    }
   ],
   "source": [
    "print(df_test.shape)\n",
    "print(df_test_clean.shape)"
   ]
  },
  {
   "cell_type": "markdown",
   "metadata": {},
   "source": [
    "# Separando X e Y de treino"
   ]
  },
  {
   "cell_type": "code",
   "execution_count": 91,
   "metadata": {},
   "outputs": [
    {
     "name": "stdout",
     "output_type": "stream",
     "text": [
      "(41756, 49) (41756,)\n",
      "(13924, 49) (13924,)\n"
     ]
    }
   ],
   "source": [
    "x_train, y_train = df_train_clean.iloc[:, :-1], df_train_clean.iloc[:, -1]\n",
    "x_test, y_test = df_test_clean.iloc[:, :-1], df_test_clean.iloc[:, -1]\n",
    "\n",
    "print(x_train.shape, y_train.shape)\n",
    "print(x_test.shape, y_test.shape)"
   ]
  },
  {
   "cell_type": "markdown",
   "metadata": {},
   "source": [
    "# Importando pacotes para validação do modelo"
   ]
  },
  {
   "cell_type": "code",
   "execution_count": 106,
   "metadata": {},
   "outputs": [],
   "source": [
    "from sklearn import metrics\n",
    "from sklearn.metrics import classification_report, ConfusionMatrixDisplay, roc_auc_score, RocCurveDisplay\n",
    "from scipy import stats\n",
    "import warnings\n",
    "\n",
    "warnings.filterwarnings('ignore')"
   ]
  },
  {
   "cell_type": "code",
   "execution_count": 110,
   "metadata": {},
   "outputs": [],
   "source": [
    "def run_model(modelo, x_train, y_train, x_test, y_test):\n",
    "    modelo.fit(x_train, y_train)\n",
    "\n",
    "    try:\n",
    "        prob_predict = modelo.predict_proba(x_test)\n",
    "    except:\n",
    "        # Modelo não aceita resultado em probabilidade\n",
    "        prob_predict = '-'\n",
    "\n",
    "    data_bom = np.sort(prob_predict)[:, 0]\n",
    "    data_mau = np.sort(prob_predict)[:, 1]\n",
    "    kstest = stats.ks_2samp(data_bom, data_mau)\n",
    "\n",
    "\n",
    "    print(f'\\n-------Resultados--------')\n",
    "    \n",
    "    return prob_predict"
   ]
  },
  {
   "cell_type": "code",
   "execution_count": 96,
   "metadata": {},
   "outputs": [],
   "source": [
    "from sklearn.linear_model import LogisticRegression\n",
    "\n",
    "model_logistic = LogisticRegression()"
   ]
  },
  {
   "cell_type": "code",
   "execution_count": 107,
   "metadata": {},
   "outputs": [
    {
     "name": "stdout",
     "output_type": "stream",
     "text": [
      "\n",
      "-------Resultados--------\n"
     ]
    }
   ],
   "source": [
    "predict, prob = run_model(model_logistic, x_train, y_train, x_test, y_test)"
   ]
  },
  {
   "cell_type": "code",
   "execution_count": 109,
   "metadata": {},
   "outputs": [
    {
     "data": {
      "text/plain": [
       "array([0.48845603, 0.31871654, 0.4186163 , ..., 0.29108715, 0.25252377,\n",
       "       0.42575859])"
      ]
     },
     "execution_count": 109,
     "metadata": {},
     "output_type": "execute_result"
    }
   ],
   "source": [
    "np.sort(prob)[:,0]"
   ]
  }
 ],
 "metadata": {
  "kernelspec": {
   "display_name": "pyspark_env",
   "language": "python",
   "name": "python3"
  },
  "language_info": {
   "codemirror_mode": {
    "name": "ipython",
    "version": 3
   },
   "file_extension": ".py",
   "mimetype": "text/x-python",
   "name": "python",
   "nbconvert_exporter": "python",
   "pygments_lexer": "ipython3",
   "version": "3.10.9"
  }
 },
 "nbformat": 4,
 "nbformat_minor": 2
}
