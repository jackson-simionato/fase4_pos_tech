{
 "cells": [
  {
   "cell_type": "code",
   "execution_count": 1,
   "metadata": {},
   "outputs": [],
   "source": [
    "import pandas as pd\n",
    "import numpy as np\n",
    "from sklearn.model_selection import train_test_split"
   ]
  },
  {
   "cell_type": "code",
   "execution_count": 2,
   "metadata": {},
   "outputs": [],
   "source": [
    "df_clientes = pd.read_csv('../../dados/credit_score/df_clientes_variavel_target.csv')"
   ]
  },
  {
   "cell_type": "markdown",
   "metadata": {},
   "source": [
    "# Train Test Split"
   ]
  },
  {
   "cell_type": "code",
   "execution_count": 3,
   "metadata": {},
   "outputs": [],
   "source": [
    "SEED = 42"
   ]
  },
  {
   "cell_type": "code",
   "execution_count": 4,
   "metadata": {},
   "outputs": [],
   "source": [
    "x = df_clientes.drop(columns=['Risco_de_credito'])\n",
    "y = df_clientes['Risco_de_credito']"
   ]
  },
  {
   "cell_type": "code",
   "execution_count": 5,
   "metadata": {},
   "outputs": [],
   "source": [
    "df_train, df_test = train_test_split(df_clientes, test_size=0.25, random_state=SEED, stratify=df_clientes['Risco_de_credito'])"
   ]
  },
  {
   "cell_type": "code",
   "execution_count": 6,
   "metadata": {},
   "outputs": [
    {
     "name": "stdout",
     "output_type": "stream",
     "text": [
      "(21307, 16) (7103, 16)\n"
     ]
    }
   ],
   "source": [
    "print(df_train.shape, df_test.shape)"
   ]
  },
  {
   "cell_type": "code",
   "execution_count": 7,
   "metadata": {},
   "outputs": [],
   "source": [
    "df_train.to_csv('../../dados/credit_score/df_clientes_train.csv', index=False)\n",
    "df_test.to_csv('../../dados/credit_score/df_clientes_test.csv', index=False)"
   ]
  },
  {
   "cell_type": "markdown",
   "metadata": {},
   "source": [
    "# Criação pipeline"
   ]
  },
  {
   "cell_type": "code",
   "execution_count": 8,
   "metadata": {},
   "outputs": [],
   "source": [
    "from sklearn.base import BaseEstimator, TransformerMixin\n",
    "from sklearn.preprocessing import MinMaxScaler, OneHotEncoder, OrdinalEncoder\n",
    "from imblearn.over_sampling import SMOTE"
   ]
  },
  {
   "cell_type": "markdown",
   "metadata": {},
   "source": [
    "## Drop ID_Cliente"
   ]
  },
  {
   "cell_type": "code",
   "execution_count": 9,
   "metadata": {},
   "outputs": [],
   "source": [
    "class DropFeatures(BaseEstimator, TransformerMixin):\n",
    "    def __init__(self, feature_to_drop='ID_Cliente') -> None:\n",
    "        self.feature_to_drop = feature_to_drop\n",
    "\n",
    "    def fit(self, df):\n",
    "        return self\n",
    "    \n",
    "    def transform(self, df):\n",
    "        if self.feature_to_drop in df.columns:\n",
    "            drop_df = df.drop(columns=[self.feature_to_drop])\n",
    "            return drop_df\n",
    "        else:\n",
    "            print(f'Variável {self.feature_to_drop} não encontrada no dataframe')\n",
    "            return df"
   ]
  },
  {
   "cell_type": "markdown",
   "metadata": {},
   "source": [
    "## MinMaxScaler"
   ]
  },
  {
   "cell_type": "code",
   "execution_count": 10,
   "metadata": {},
   "outputs": [],
   "source": [
    "class MinMax(BaseEstimator, TransformerMixin):\n",
    "    def __init__(self, min_max_scaler=['Idade', 'Anos_empregado', 'Tamanho_familia','Rendimento_anual']):\n",
    "        self.min_max_scaler = min_max_scaler\n",
    "\n",
    "    def fit(self, df):\n",
    "        return self\n",
    "    \n",
    "    def transform(self, df):\n",
    "        if set(self.min_max_scaler).issubset(df.columns):\n",
    "            scaler = MinMaxScaler()\n",
    "            df[self.min_max_scaler] = scaler.fit_transform(df[self.min_max_scaler])\n",
    "\n",
    "            return df\n",
    "        else:\n",
    "            print(f'Colunas {[col for col in self.min_max_scaler if col not in df.columns]} não encontradas')\n",
    "            return df"
   ]
  },
  {
   "cell_type": "markdown",
   "metadata": {},
   "source": [
    "## OneHotEncoding"
   ]
  },
  {
   "cell_type": "code",
   "execution_count": 11,
   "metadata": {},
   "outputs": [],
   "source": [
    "class OneHotEncoding(BaseEstimator, TransformerMixin):\n",
    "    def __init__(self, one_hot_encoder=['Categoria_de_renda','Estado_civil','Moradia','Ocupacao']):\n",
    "        self.one_hot_encoder = one_hot_encoder\n",
    "\n",
    "    def fit(self, df):\n",
    "        return self\n",
    "    \n",
    "    def transform(self, df):\n",
    "        if set(self.one_hot_encoder).issubset(df.columns):\n",
    "            def one_hot_enc(df, one_hot_encoder):\n",
    "                one_hot_enc = OneHotEncoder()\n",
    "                one_hot_enc.fit(df[one_hot_encoder])\n",
    "                feature_names = one_hot_enc.get_feature_names_out(one_hot_encoder)\n",
    "                df = pd.DataFrame(one_hot_enc.transform(df[self.one_hot_encoder]).toarray(),\n",
    "                                columns=feature_names, index=df.index)\n",
    "                df[feature_names] = df[feature_names].astype(int)\n",
    "            \n",
    "                return df\n",
    "            \n",
    "            def concat_result(df, one_hot_enc_df, one_hot_encoder):\n",
    "                other_features = [column for column in df.columns if column not in one_hot_encoder]\n",
    "                df_concat = pd.concat([df[other_features], one_hot_enc_df], axis=1)\n",
    "\n",
    "                return df_concat\n",
    "            \n",
    "            df_OneHotEncoding = one_hot_enc(df, self.one_hot_encoder)\n",
    "            df_final = concat_result(df, df_OneHotEncoding, self.one_hot_encoder)\n",
    "\n",
    "            return df_final\n",
    "            \n",
    "        else:\n",
    "            print(f'Colunas {[col for col in self.one_hot_encoder if col not in df.columns]} não encontradas')\n",
    "            return df\n"
   ]
  },
  {
   "cell_type": "markdown",
   "metadata": {},
   "source": [
    "## OrdinalEncoding"
   ]
  },
  {
   "cell_type": "code",
   "execution_count": 12,
   "metadata": {},
   "outputs": [],
   "source": [
    "class OrdinalFeature(BaseEstimator, TransformerMixin):\n",
    "    def __init__(self, ordinal_feature=['Grau_escolaridade']):\n",
    "        self.ordinal_feature = ordinal_feature\n",
    "\n",
    "    def fit(self, df):\n",
    "        return self\n",
    "    \n",
    "    def transform(self, df):\n",
    "        if self.ordinal_feature[0] in df.columns:\n",
    "            ordinal_encoder = OrdinalEncoder(dtype=int)\n",
    "            df[self.ordinal_feature] = ordinal_encoder.fit_transform(df[self.ordinal_feature])\n",
    "\n",
    "            return df\n",
    "        else:\n",
    "            print(f'Variável {self.ordinal_feature} não encontrada no dataframe!')\n",
    "            return df"
   ]
  },
  {
   "cell_type": "markdown",
   "metadata": {},
   "source": [
    "## Oversample"
   ]
  },
  {
   "cell_type": "code",
   "execution_count": 13,
   "metadata": {},
   "outputs": [],
   "source": [
    "class OverSample(BaseEstimator, TransformerMixin):\n",
    "    def __init__(self):\n",
    "        pass\n",
    "\n",
    "    def fit(self, df):\n",
    "        return self\n",
    "    \n",
    "    def transform(self, df):\n",
    "        oversampler = SMOTE(sampling_strategy='minority')\n",
    "        x_bal, y_bal = oversampler.fit_resample(df.drop(columns=['Risco_de_credito']), df['Risco_de_credito'])\n",
    "        df_bal = pd.concat([pd.DataFrame(x_bal), pd.DataFrame(y_bal)], axis=1)\n",
    "\n",
    "        return df_bal"
   ]
  },
  {
   "cell_type": "markdown",
   "metadata": {},
   "source": [
    "# Rodando pipeline"
   ]
  },
  {
   "cell_type": "code",
   "execution_count": 14,
   "metadata": {},
   "outputs": [],
   "source": [
    "from sklearn.pipeline import Pipeline"
   ]
  },
  {
   "cell_type": "code",
   "execution_count": 15,
   "metadata": {},
   "outputs": [],
   "source": [
    "def pipeline_ml(df):\n",
    "    pipeline = Pipeline([\n",
    "        ('feature_dropper', DropFeatures()),\n",
    "        ('scaler', MinMax()),\n",
    "        ('one_hot_encoder', OneHotEncoding()),\n",
    "        ('ordinal_encoder', OrdinalFeature()),\n",
    "        ('smote', OverSample())\n",
    "    ])\n",
    "\n",
    "    df_pipeline = pipeline.fit_transform(df)\n",
    "    return df_pipeline"
   ]
  },
  {
   "cell_type": "code",
   "execution_count": 16,
   "metadata": {},
   "outputs": [],
   "source": [
    "df_train_clean = pipeline_ml(df_train)"
   ]
  },
  {
   "cell_type": "code",
   "execution_count": 17,
   "metadata": {},
   "outputs": [],
   "source": [
    "df_test_clean = pipeline_ml(df_test)"
   ]
  },
  {
   "cell_type": "code",
   "execution_count": 18,
   "metadata": {},
   "outputs": [
    {
     "name": "stdout",
     "output_type": "stream",
     "text": [
      "(7103, 16)\n",
      "(13920, 50)\n"
     ]
    }
   ],
   "source": [
    "print(df_test.shape)\n",
    "print(df_test_clean.shape)"
   ]
  },
  {
   "cell_type": "markdown",
   "metadata": {},
   "source": [
    "# Separando X e Y de treino"
   ]
  },
  {
   "cell_type": "code",
   "execution_count": 19,
   "metadata": {},
   "outputs": [
    {
     "data": {
      "text/plain": [
       "49"
      ]
     },
     "execution_count": 19,
     "metadata": {},
     "output_type": "execute_result"
    }
   ],
   "source": [
    "index_y = df_train_clean.columns.to_list().index('Risco_de_credito')\n",
    "index_y"
   ]
  },
  {
   "cell_type": "code",
   "execution_count": 20,
   "metadata": {},
   "outputs": [
    {
     "name": "stdout",
     "output_type": "stream",
     "text": [
      "(41760, 49) (41760,)\n",
      "(41760, 49) (41760,)\n"
     ]
    }
   ],
   "source": [
    "x_train, y_train = df_train_clean.drop(columns=['Risco_de_credito']), df_train_clean.iloc[:, index_y]\n",
    "x_test, y_test = df_train_clean.drop(columns=['Risco_de_credito']), df_train_clean.iloc[:, index_y]\n",
    "\n",
    "print(x_train.shape, y_train.shape)\n",
    "print(x_test.shape, y_test.shape)"
   ]
  },
  {
   "cell_type": "code",
   "execution_count": 21,
   "metadata": {},
   "outputs": [
    {
     "data": {
      "text/plain": [
       "Index(['Tem_carro', 'Tem_casa_propria', 'Tem_telefone_trabalho',\n",
       "       'Tem_telefone_fixo', 'Tem_email', 'Idade', 'Anos_empregado',\n",
       "       'Tamanho_familia', 'Rendimento_anual', 'Grau_escolaridade',\n",
       "       'Categoria_de_renda_Associado comercial',\n",
       "       'Categoria_de_renda_Empregado', 'Categoria_de_renda_Estudante',\n",
       "       'Categoria_de_renda_Pensionista', 'Categoria_de_renda_Servidor público',\n",
       "       'Estado_civil_Casado', 'Estado_civil_Divorciado',\n",
       "       'Estado_civil_Solteiro', 'Estado_civil_União-estável',\n",
       "       'Estado_civil_Viúvo', 'Moradia_Apartamento alugado',\n",
       "       'Moradia_Apartamento comercial', 'Moradia_Casa/apartamento próprio',\n",
       "       'Moradia_Cooperativa habitacional', 'Moradia_Habitação pública ',\n",
       "       'Moradia_Mora com os pais', 'Ocupacao_Alta tecnologia',\n",
       "       'Ocupacao_Associado comercial', 'Ocupacao_Baixa qualificação',\n",
       "       'Ocupacao_Construção Civil', 'Ocupacao_Contabilidade',\n",
       "       'Ocupacao_Corretor imobiliário', 'Ocupacao_Cozinha',\n",
       "       'Ocupacao_Equipe principal', 'Ocupacao_Estudante', 'Ocupacao_Garçom',\n",
       "       'Ocupacao_Gerência', 'Ocupacao_Limpeza', 'Ocupacao_Medicina',\n",
       "       'Ocupacao_Motorista', 'Ocupacao_Outro', 'Ocupacao_Pensionista',\n",
       "       'Ocupacao_RH', 'Ocupacao_Secretariado', 'Ocupacao_Segurança',\n",
       "       'Ocupacao_Servidor público', 'Ocupacao_Serviço privado', 'Ocupacao_TI',\n",
       "       'Ocupacao_Vendas'],\n",
       "      dtype='object')"
      ]
     },
     "execution_count": 21,
     "metadata": {},
     "output_type": "execute_result"
    }
   ],
   "source": [
    "x_test.columns"
   ]
  },
  {
   "cell_type": "code",
   "execution_count": 22,
   "metadata": {},
   "outputs": [],
   "source": [
    "df_train_clean.to_csv('../../dados/credit_score/df_train_clean.csv', index=False)\n",
    "df_test_clean.to_csv('../../dados/credit_score/df_test_clean.csv', index=False)"
   ]
  }
 ],
 "metadata": {
  "kernelspec": {
   "display_name": "pyspark_env",
   "language": "python",
   "name": "python3"
  },
  "language_info": {
   "codemirror_mode": {
    "name": "ipython",
    "version": 3
   },
   "file_extension": ".py",
   "mimetype": "text/x-python",
   "name": "python",
   "nbconvert_exporter": "python",
   "pygments_lexer": "ipython3",
   "version": "3.10.9"
  }
 },
 "nbformat": 4,
 "nbformat_minor": 2
}
