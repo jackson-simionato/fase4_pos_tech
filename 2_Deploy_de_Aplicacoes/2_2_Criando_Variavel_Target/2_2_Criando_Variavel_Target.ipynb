{
 "cells": [
  {
   "cell_type": "code",
   "execution_count": null,
   "metadata": {},
   "outputs": [],
   "source": [
    "import pandas as pd"
   ]
  },
  {
   "cell_type": "code",
   "execution_count": null,
   "metadata": {},
   "outputs": [],
   "source": [
    "# Dataset da variavel target\n",
    "df_aprovados = pd.read_csv('https://raw.githubusercontent.com/FIAP/Pos_Tech_DTAT/dd201a034223a16732c6f639b40600b26bd3129c/dados/clientes_aprovados.csv')\n",
    "\n",
    "# Dataset tratado no primeiro script\n",
    "df_cadastrados = pd.read_csv('../../dados/credit_score/clientes_cadastrados_clean.csv')"
   ]
  },
  {
   "cell_type": "code",
   "execution_count": null,
   "metadata": {},
   "outputs": [],
   "source": [
    "# ID Cliente -> Join com df_cadastrados\n",
    "# Mes_referencia -> 0 = mês atual, -1 = mês passado, etc.\n",
    "# Faixa_atraso -> quanto tempo atrasou o pagamento\n",
    "df_aprovados.head()"
   ]
  },
  {
   "cell_type": "code",
   "execution_count": null,
   "metadata": {},
   "outputs": [],
   "source": [
    "# Valores possíveis para Faixa_atraso\n",
    "df_aprovados['Faixa_atraso'].value_counts()"
   ]
  },
  {
   "cell_type": "code",
   "execution_count": null,
   "metadata": {},
   "outputs": [],
   "source": [
    "# Exemplo de linhas para um cliente específico\n",
    "df_aprovados.loc[df_aprovados['ID_Cliente'] == 5001712]"
   ]
  },
  {
   "cell_type": "markdown",
   "metadata": {},
   "source": [
    "**Variável target**: cliente é bom ou mau pagador?\n",
    "\n",
    "Isso requere etapa de feature engineering, ponderar diversos fatores!"
   ]
  },
  {
   "cell_type": "markdown",
   "metadata": {},
   "source": [
    "# Feature Engineering"
   ]
  },
  {
   "cell_type": "markdown",
   "metadata": {},
   "source": [
    "## Mês de abertura e fechamento das contas"
   ]
  },
  {
   "cell_type": "code",
   "execution_count": null,
   "metadata": {},
   "outputs": [],
   "source": [
    "df_goupby_id = df_aprovados.groupby('ID_Cliente').agg(Mes_inicio_conta=('Mes_referencia','min'), Mes_fim_conta = ('Mes_referencia','max')).reset_index()\n",
    "df_goupby_id"
   ]
  },
  {
   "cell_type": "code",
   "execution_count": null,
   "metadata": {},
   "outputs": [],
   "source": [
    "# Merge no df aprovados\n",
    "df_aprovados_mes = df_aprovados.merge(df_goupby_id, on='ID_Cliente')\n",
    "df_aprovados_mes"
   ]
  },
  {
   "cell_type": "markdown",
   "metadata": {},
   "source": [
    "## Número de meses"
   ]
  },
  {
   "cell_type": "code",
   "execution_count": null,
   "metadata": {},
   "outputs": [],
   "source": [
    "df_aprovados_mes['N_meses'] = df_aprovados_mes['Mes_fim_conta'] - df_aprovados_mes['Mes_inicio_conta']"
   ]
  },
  {
   "cell_type": "code",
   "execution_count": null,
   "metadata": {},
   "outputs": [],
   "source": [
    "df_aprovados_mes"
   ]
  },
  {
   "cell_type": "markdown",
   "metadata": {},
   "source": [
    "## MOB\n",
    "\n",
    "Months on Book -> para cada mês de referência, indica há quantos meses o relacionamento com o cliente se iniciou\n",
    "\n",
    "MOB = Mes_referencia - Mes_inicio_conta"
   ]
  },
  {
   "cell_type": "code",
   "execution_count": null,
   "metadata": {},
   "outputs": [],
   "source": [
    "df_aprovados_mob = df_aprovados_mes.copy()"
   ]
  },
  {
   "cell_type": "code",
   "execution_count": null,
   "metadata": {},
   "outputs": [],
   "source": [
    "df_aprovados_mob['MOB'] = df_aprovados_mob['Mes_referencia'] - df_aprovados_mob['Mes_inicio_conta']"
   ]
  },
  {
   "cell_type": "code",
   "execution_count": null,
   "metadata": {},
   "outputs": [],
   "source": [
    "df_aprovados_mob"
   ]
  },
  {
   "cell_type": "markdown",
   "metadata": {},
   "source": [
    "## Cliente ativo"
   ]
  },
  {
   "cell_type": "code",
   "execution_count": null,
   "metadata": {},
   "outputs": [],
   "source": [
    "df_aprovados_mob['Cliente_ativo'] = df_aprovados_mob['Mes_fim_conta'].apply(lambda x: 1 if x == 0 else 0)"
   ]
  },
  {
   "cell_type": "code",
   "execution_count": null,
   "metadata": {},
   "outputs": [],
   "source": [
    "df_aprovados_mob"
   ]
  },
  {
   "cell_type": "markdown",
   "metadata": {},
   "source": [
    "## Faixa_atraso\n",
    "\n",
    "Mudar Faixa_atraso para valores numéricos"
   ]
  },
  {
   "cell_type": "code",
   "execution_count": null,
   "metadata": {},
   "outputs": [],
   "source": [
    "df_aprovados_faixa_atraso = df_aprovados_mob.copy()"
   ]
  },
  {
   "cell_type": "code",
   "execution_count": null,
   "metadata": {},
   "outputs": [],
   "source": [
    "df_aprovados_faixa_atraso['Faixa_atraso'].unique()"
   ]
  },
  {
   "cell_type": "code",
   "execution_count": null,
   "metadata": {},
   "outputs": [],
   "source": [
    "dict_faixa_atraso = {'nenhum empréstimo':0, 'pagamento realizado':1,'1-29 dias':2,\n",
    "       '30-59 dias':3, '60-89 dias':4, '90-119 dias':5, '120-149 dias':6,\n",
    "       '>150 dias':7}"
   ]
  },
  {
   "cell_type": "code",
   "execution_count": null,
   "metadata": {},
   "outputs": [],
   "source": [
    "df_aprovados_faixa_atraso['Int_Faixa_atraso'] = df_aprovados_faixa_atraso['Faixa_atraso'].map(dict_faixa_atraso)\n",
    "df_aprovados_faixa_atraso.drop(columns=['Faixa_atraso'], inplace=True)\n",
    "df_aprovados_faixa_atraso.rename(columns={'Int_Faixa_atraso':'Faixa_atraso'}, inplace=True)"
   ]
  },
  {
   "cell_type": "markdown",
   "metadata": {},
   "source": [
    "## Variável Bom/Mau pagador"
   ]
  },
  {
   "cell_type": "code",
   "execution_count": null,
   "metadata": {},
   "outputs": [],
   "source": [
    "df_aprovados_pagadores = df_aprovados_faixa_atraso.copy()"
   ]
  },
  {
   "cell_type": "code",
   "execution_count": null,
   "metadata": {},
   "outputs": [],
   "source": [
    "df_aprovados_pagadores['Mau_pagador'] = df_aprovados_pagadores['Faixa_atraso'].apply(lambda x: 1 if x > 2 else 0)"
   ]
  },
  {
   "cell_type": "code",
   "execution_count": null,
   "metadata": {},
   "outputs": [],
   "source": [
    "df_aprovados_pagadores"
   ]
  },
  {
   "cell_type": "markdown",
   "metadata": {},
   "source": [
    "## Número de vezes que foi mau pagador"
   ]
  },
  {
   "cell_type": "code",
   "execution_count": null,
   "metadata": {},
   "outputs": [],
   "source": [
    "df_groupby_n_mau_pagador = df_aprovados_pagadores.groupby('ID_Cliente').agg(N_Mau_pagador = ('Mau_pagador','sum')).reset_index()\n",
    "df_groupby_n_mau_pagador"
   ]
  },
  {
   "cell_type": "code",
   "execution_count": null,
   "metadata": {},
   "outputs": [],
   "source": [
    "df_aprovados_pagadores = df_aprovados_pagadores.merge(df_groupby_n_mau_pagador, on='ID_Cliente')"
   ]
  },
  {
   "cell_type": "code",
   "execution_count": null,
   "metadata": {},
   "outputs": [],
   "source": [
    "df_aprovados_pagadores"
   ]
  },
  {
   "cell_type": "markdown",
   "metadata": {},
   "source": [
    "## Proporção de meses como mau pagador"
   ]
  },
  {
   "cell_type": "code",
   "execution_count": null,
   "metadata": {},
   "outputs": [],
   "source": [
    "df_aprovados_pagadores['Ratio_Mau_pagador'] = df_aprovados_pagadores.apply(lambda x: (x['N_Mau_pagador'] / x['N_meses']) * 100 if x['N_meses'] > 0 else 0, axis=1)"
   ]
  },
  {
   "cell_type": "code",
   "execution_count": null,
   "metadata": {},
   "outputs": [],
   "source": [
    "df_aprovados_pagadores['Ratio_Mau_pagador'].value_counts()"
   ]
  },
  {
   "cell_type": "markdown",
   "metadata": {},
   "source": [
    "## Análise Vintage"
   ]
  },
  {
   "cell_type": "markdown",
   "metadata": {},
   "source": [
    "### Qtd de clientes por Mes Inicio Conta"
   ]
  },
  {
   "cell_type": "code",
   "execution_count": null,
   "metadata": {},
   "outputs": [],
   "source": [
    "# Criação de DF com ID_Clientes unicos, considerando apenas o mês mais atual de registro\n",
    "df_clientes_drop_duplicates = df_aprovados_pagadores.drop_duplicates(subset='ID_Cliente', keep='first')\n",
    "df_clientes_drop_duplicates.reset_index(drop=True, inplace=True)\n",
    "df_clientes_drop_duplicates"
   ]
  },
  {
   "cell_type": "code",
   "execution_count": null,
   "metadata": {},
   "outputs": [],
   "source": [
    "# Contagem de clientes únicos em cada valor de \n",
    "df_abertura = df_clientes_drop_duplicates.groupby('Mes_inicio_conta').agg({'ID_Cliente':'count'}).reset_index()\n",
    "df_abertura.rename(columns={'ID_Cliente':'Qtd_Clientes'}, inplace=True)\n",
    "df_abertura"
   ]
  },
  {
   "cell_type": "code",
   "execution_count": null,
   "metadata": {},
   "outputs": [],
   "source": [
    "# Criação de DF Vintage: Agrupamento por Mes Inicio Conta e MOB (Months on Book)\n",
    "df_vintage = df_aprovados_pagadores.groupby(['Mes_inicio_conta','MOB']).agg({'ID_Cliente':'count'}).reset_index()\n",
    "df_vintage.rename(columns={'ID_Cliente':'Qtd_Clientes'}, inplace=True)\n",
    "df_vintage"
   ]
  },
  {
   "cell_type": "code",
   "execution_count": null,
   "metadata": {},
   "outputs": [],
   "source": [
    "## Isso não parece correto, vou desconsiderar!\n",
    "\n",
    "\n",
    "# Merge df vintage e df abertura\n",
    "df_vintage = df_vintage[['Mes_inicio_conta','MOB']].merge(df_abertura, on='Mes_inicio_conta', how='left')\n",
    "df_vintage"
   ]
  },
  {
   "cell_type": "markdown",
   "metadata": {},
   "source": [
    "### Proporção maus pagadores"
   ]
  },
  {
   "cell_type": "code",
   "execution_count": null,
   "metadata": {},
   "outputs": [],
   "source": [
    "import numpy as np\n",
    "\n",
    "df_vintage['Qtde_Mau_pagador'] = np.nan"
   ]
  },
  {
   "cell_type": "code",
   "execution_count": null,
   "metadata": {},
   "outputs": [],
   "source": [
    "df_aprovados_pagadores.loc[(df_aprovados_pagadores['Mes_inicio_conta'] == -60) & (df_aprovados_pagadores['MOB'] == 60)]"
   ]
  },
  {
   "cell_type": "code",
   "execution_count": null,
   "metadata": {},
   "outputs": [],
   "source": [
    "for j in sorted(df_vintage['Mes_inicio_conta'].unique()):\n",
    "    ls = []\n",
    "\n",
    "    for i in range(0, len(df_vintage['Mes_inicio_conta'].unique()) +1):\n",
    "        due = list(df_aprovados_pagadores.query(\"Mau_pagador == 1 and MOB == @i and Mes_inicio_conta == @j\")['ID_Cliente'])\n",
    "\n",
    "        n_mau_pagadores = len(due)\n",
    "\n",
    "        df_vintage.loc[(df_vintage['MOB'] == i) & (df_vintage['Mes_inicio_conta'] == j), 'Qtde_Mau_pagador'] = n_mau_pagadores\n",
    "\n",
    "\n",
    "df_vintage['Taxa_Mau_pagador'] = df_vintage['Qtde_Mau_pagador'] / df_vintage['Qtd_Clientes'] * 100"
   ]
  },
  {
   "cell_type": "markdown",
   "metadata": {},
   "source": [
    "### Tabela Pivot"
   ]
  },
  {
   "cell_type": "code",
   "execution_count": null,
   "metadata": {},
   "outputs": [],
   "source": [
    "df_vintage"
   ]
  },
  {
   "cell_type": "code",
   "execution_count": null,
   "metadata": {},
   "outputs": [],
   "source": [
    "df_vintage_pivot = df_vintage.pivot(index='Mes_inicio_conta', columns='MOB', values='Taxa_Mau_pagador')\n",
    "df_vintage_pivot"
   ]
  },
  {
   "cell_type": "code",
   "execution_count": null,
   "metadata": {},
   "outputs": [],
   "source": [
    "import seaborn as sns"
   ]
  },
  {
   "cell_type": "code",
   "execution_count": null,
   "metadata": {},
   "outputs": [],
   "source": [
    "df_vintage_pivot"
   ]
  },
  {
   "cell_type": "code",
   "execution_count": null,
   "metadata": {},
   "outputs": [],
   "source": [
    "df_vintage_pivot.T.iloc[:, :10]"
   ]
  },
  {
   "cell_type": "code",
   "execution_count": null,
   "metadata": {},
   "outputs": [],
   "source": [
    "sns.lineplot(df_vintage_pivot.T.iloc[:, :10].fillna(0))"
   ]
  },
  {
   "cell_type": "markdown",
   "metadata": {},
   "source": [
    "Percebe-se que existem mais clientes pagadores nos menores valores de MOB, ou seja, logo após abertura da conta há uma tendência dos clientes atrasarem o pagamento de dívidas.\n",
    "\n",
    "Por outro lado, clientes com contas há mais tempo (maior MOB), geralmente são melhores pagadores."
   ]
  },
  {
   "cell_type": "code",
   "execution_count": null,
   "metadata": {},
   "outputs": [],
   "source": [
    "# Análise: acumulado de clientes por N_meses (janela)\n",
    "sns.histplot(df_clientes_drop_duplicates, x='N_meses', cumulative=True, kde=True)"
   ]
  },
  {
   "cell_type": "markdown",
   "metadata": {},
   "source": [
    "# Criação de variáveis binárias por faixa de atraso"
   ]
  },
  {
   "cell_type": "code",
   "execution_count": null,
   "metadata": {},
   "outputs": [],
   "source": [
    "dict_intervalo_atraso = {'60_dias':3,'90_dias':4,'120_dias':5,'150_dias':6, 'maior_150_dias':7}"
   ]
  },
  {
   "cell_type": "code",
   "execution_count": null,
   "metadata": {},
   "outputs": [],
   "source": [
    "for key,value in dict_intervalo_atraso.items():\n",
    "    df_aprovados_pagadores[f'Mau_{key}'] = df_aprovados_pagadores.apply(lambda x: 1 if x['Faixa_atraso'] >= value else 0, axis=1)"
   ]
  },
  {
   "cell_type": "code",
   "execution_count": null,
   "metadata": {},
   "outputs": [],
   "source": [
    "df_aprovados_pagadores.query('Mau_90_dias == 1')"
   ]
  },
  {
   "cell_type": "markdown",
   "metadata": {},
   "source": [
    "## Análise: taxa de clientes mau pagadores por faixa de atraso"
   ]
  },
  {
   "cell_type": "code",
   "execution_count": 75,
   "metadata": {},
   "outputs": [],
   "source": [
    "dict_taxa_mau = {}\n",
    "id_sum = df_aprovados_pagadores['ID_Cliente'].nunique()\n",
    "\n",
    "for key in dict_intervalo_atraso.keys():\n",
    "    df_min_mau = df_aprovados_pagadores.query(f'Mau_{key} == 1').groupby('ID_Cliente').agg({'MOB':'min'}).reset_index()\n",
    "\n",
    "    df_mob_taxa_mau = pd.DataFrame(columns=['MOB', 'Taxa_mau'])\n",
    "\n",
    "    lst = []\n",
    "\n",
    "    for i in range(0, df_aprovados_pagadores['MOB'].nunique()):\n",
    "        due = df_min_mau.query('MOB == @i')['ID_Cliente'].to_list()\n",
    "        lst.extend(due)\n",
    "\n",
    "        df_mob_taxa_mau = pd.concat([df_mob_taxa_mau, pd.DataFrame(data={'MOB': [i], 'Taxa_mau': [len(set(lst))/id_sum]})])\n",
    "\n",
    "    dict_taxa_mau[key] = df_mob_taxa_mau['Taxa_mau']\n",
    "\n",
    "df_taxa_mau = pd.DataFrame(dict_taxa_mau)\n",
    "df_taxa_mau.reset_index(drop=True, inplace=True)"
   ]
  },
  {
   "cell_type": "code",
   "execution_count": 76,
   "metadata": {},
   "outputs": [
    {
     "data": {
      "text/html": [
       "<div>\n",
       "<style scoped>\n",
       "    .dataframe tbody tr th:only-of-type {\n",
       "        vertical-align: middle;\n",
       "    }\n",
       "\n",
       "    .dataframe tbody tr th {\n",
       "        vertical-align: top;\n",
       "    }\n",
       "\n",
       "    .dataframe thead th {\n",
       "        text-align: right;\n",
       "    }\n",
       "</style>\n",
       "<table border=\"1\" class=\"dataframe\">\n",
       "  <thead>\n",
       "    <tr style=\"text-align: right;\">\n",
       "      <th></th>\n",
       "      <th>60_dias</th>\n",
       "      <th>90_dias</th>\n",
       "      <th>120_dias</th>\n",
       "      <th>150_dias</th>\n",
       "      <th>maior_150_dias</th>\n",
       "    </tr>\n",
       "  </thead>\n",
       "  <tbody>\n",
       "    <tr>\n",
       "      <th>0</th>\n",
       "      <td>0.000304</td>\n",
       "      <td>0.000022</td>\n",
       "      <td>0.000022</td>\n",
       "      <td>0.000022</td>\n",
       "      <td>0.000022</td>\n",
       "    </tr>\n",
       "    <tr>\n",
       "      <th>1</th>\n",
       "      <td>0.011612</td>\n",
       "      <td>0.000174</td>\n",
       "      <td>0.000087</td>\n",
       "      <td>0.000087</td>\n",
       "      <td>0.000087</td>\n",
       "    </tr>\n",
       "    <tr>\n",
       "      <th>2</th>\n",
       "      <td>0.025878</td>\n",
       "      <td>0.001153</td>\n",
       "      <td>0.000196</td>\n",
       "      <td>0.000174</td>\n",
       "      <td>0.000174</td>\n",
       "    </tr>\n",
       "    <tr>\n",
       "      <th>3</th>\n",
       "      <td>0.036860</td>\n",
       "      <td>0.002240</td>\n",
       "      <td>0.000696</td>\n",
       "      <td>0.000304</td>\n",
       "      <td>0.000304</td>\n",
       "    </tr>\n",
       "    <tr>\n",
       "      <th>4</th>\n",
       "      <td>0.047385</td>\n",
       "      <td>0.003392</td>\n",
       "      <td>0.001044</td>\n",
       "      <td>0.000696</td>\n",
       "      <td>0.000348</td>\n",
       "    </tr>\n",
       "  </tbody>\n",
       "</table>\n",
       "</div>"
      ],
      "text/plain": [
       "    60_dias   90_dias  120_dias  150_dias  maior_150_dias\n",
       "0  0.000304  0.000022  0.000022  0.000022        0.000022\n",
       "1  0.011612  0.000174  0.000087  0.000087        0.000087\n",
       "2  0.025878  0.001153  0.000196  0.000174        0.000174\n",
       "3  0.036860  0.002240  0.000696  0.000304        0.000304\n",
       "4  0.047385  0.003392  0.001044  0.000696        0.000348"
      ]
     },
     "metadata": {},
     "output_type": "display_data"
    }
   ],
   "source": [
    "display(df_taxa_mau.head())"
   ]
  },
  {
   "cell_type": "code",
   "execution_count": 72,
   "metadata": {},
   "outputs": [],
   "source": [
    "import matplotlib.pyplot as plt"
   ]
  },
  {
   "cell_type": "code",
   "execution_count": 77,
   "metadata": {},
   "outputs": [
    {
     "data": {
      "image/png": "[encoded data removed]",
      "text/plain": [
       "<Figure size 1000x600 with 1 Axes>"
      ]
     },
     "metadata": {},
     "output_type": "display_data"
    }
   ],
   "source": [
    "df_taxa_mau.plot(grid = True, title = '% acumulado de clientes maus pagadores de acordo com faixas de atraso', figsize=(10, 6))\n",
    "plt.xlabel('MOB')\n",
    "plt.ylabel('% acumulado de clientes')\n",
    "plt.show()"
   ]
  },
  {
   "cell_type": "markdown",
   "metadata": {},
   "source": [
    "Aparentemente a curva de atraso entre 30 e 60 dias é muito diferente das outras. Em geral, é muito mais comum que pessoas atrasem pagamentos por esse período de tempo.\n",
    "\n",
    "Por isso, talvez seja uma boa ideia desconsiderar clientes que atrasaram nesta faixa entre 30 e 60 dias."
   ]
  },
  {
   "cell_type": "markdown",
   "metadata": {},
   "source": [
    "Outro ponto a se considerar é o número de meses que um cliente está cadastrado. Por exemplo, é possível dizer que uma pessoa é mau pagadora com base em um histórico de apenas 6 meses?"
   ]
  },
  {
   "cell_type": "markdown",
   "metadata": {},
   "source": [
    "# Filtragem Dataframe"
   ]
  },
  {
   "cell_type": "markdown",
   "metadata": {},
   "source": [
    "## Filtro de clientes com mais de 6 meses de histórico na base"
   ]
  },
  {
   "cell_type": "code",
   "execution_count": 91,
   "metadata": {},
   "outputs": [],
   "source": [
    "df_aprovados_pagadores_filtered = df_aprovados_pagadores.query('N_meses > 6')\n",
    "df_aprovados_pagadores_filtered.reset_index(drop=True, inplace=True)"
   ]
  },
  {
   "cell_type": "code",
   "execution_count": 92,
   "metadata": {},
   "outputs": [
    {
     "data": {
      "text/html": [
       "<div>\n",
       "<style scoped>\n",
       "    .dataframe tbody tr th:only-of-type {\n",
       "        vertical-align: middle;\n",
       "    }\n",
       "\n",
       "    .dataframe tbody tr th {\n",
       "        vertical-align: top;\n",
       "    }\n",
       "\n",
       "    .dataframe thead th {\n",
       "        text-align: right;\n",
       "    }\n",
       "</style>\n",
       "<table border=\"1\" class=\"dataframe\">\n",
       "  <thead>\n",
       "    <tr style=\"text-align: right;\">\n",
       "      <th></th>\n",
       "      <th>ID_Cliente</th>\n",
       "      <th>Mes_referencia</th>\n",
       "      <th>Mes_inicio_conta</th>\n",
       "      <th>Mes_fim_conta</th>\n",
       "      <th>N_meses</th>\n",
       "      <th>MOB</th>\n",
       "      <th>Cliente_ativo</th>\n",
       "      <th>Faixa_atraso</th>\n",
       "      <th>Mau_pagador</th>\n",
       "      <th>N_Mau_pagador</th>\n",
       "      <th>Ratio_Mau_pagador</th>\n",
       "      <th>Mau_60_dias</th>\n",
       "      <th>Mau_90_dias</th>\n",
       "      <th>Mau_120_dias</th>\n",
       "      <th>Mau_150_dias</th>\n",
       "      <th>Mau_maior_150_dias</th>\n",
       "    </tr>\n",
       "  </thead>\n",
       "  <tbody>\n",
       "    <tr>\n",
       "      <th>0</th>\n",
       "      <td>5001712</td>\n",
       "      <td>0</td>\n",
       "      <td>-18</td>\n",
       "      <td>0</td>\n",
       "      <td>18</td>\n",
       "      <td>18</td>\n",
       "      <td>1</td>\n",
       "      <td>1</td>\n",
       "      <td>0</td>\n",
       "      <td>0</td>\n",
       "      <td>0.0</td>\n",
       "      <td>0</td>\n",
       "      <td>0</td>\n",
       "      <td>0</td>\n",
       "      <td>0</td>\n",
       "      <td>0</td>\n",
       "    </tr>\n",
       "    <tr>\n",
       "      <th>1</th>\n",
       "      <td>5001712</td>\n",
       "      <td>-1</td>\n",
       "      <td>-18</td>\n",
       "      <td>0</td>\n",
       "      <td>18</td>\n",
       "      <td>17</td>\n",
       "      <td>1</td>\n",
       "      <td>1</td>\n",
       "      <td>0</td>\n",
       "      <td>0</td>\n",
       "      <td>0.0</td>\n",
       "      <td>0</td>\n",
       "      <td>0</td>\n",
       "      <td>0</td>\n",
       "      <td>0</td>\n",
       "      <td>0</td>\n",
       "    </tr>\n",
       "    <tr>\n",
       "      <th>2</th>\n",
       "      <td>5001712</td>\n",
       "      <td>-2</td>\n",
       "      <td>-18</td>\n",
       "      <td>0</td>\n",
       "      <td>18</td>\n",
       "      <td>16</td>\n",
       "      <td>1</td>\n",
       "      <td>1</td>\n",
       "      <td>0</td>\n",
       "      <td>0</td>\n",
       "      <td>0.0</td>\n",
       "      <td>0</td>\n",
       "      <td>0</td>\n",
       "      <td>0</td>\n",
       "      <td>0</td>\n",
       "      <td>0</td>\n",
       "    </tr>\n",
       "    <tr>\n",
       "      <th>3</th>\n",
       "      <td>5001712</td>\n",
       "      <td>-3</td>\n",
       "      <td>-18</td>\n",
       "      <td>0</td>\n",
       "      <td>18</td>\n",
       "      <td>15</td>\n",
       "      <td>1</td>\n",
       "      <td>1</td>\n",
       "      <td>0</td>\n",
       "      <td>0</td>\n",
       "      <td>0.0</td>\n",
       "      <td>0</td>\n",
       "      <td>0</td>\n",
       "      <td>0</td>\n",
       "      <td>0</td>\n",
       "      <td>0</td>\n",
       "    </tr>\n",
       "    <tr>\n",
       "      <th>4</th>\n",
       "      <td>5001712</td>\n",
       "      <td>-4</td>\n",
       "      <td>-18</td>\n",
       "      <td>0</td>\n",
       "      <td>18</td>\n",
       "      <td>14</td>\n",
       "      <td>1</td>\n",
       "      <td>1</td>\n",
       "      <td>0</td>\n",
       "      <td>0</td>\n",
       "      <td>0.0</td>\n",
       "      <td>0</td>\n",
       "      <td>0</td>\n",
       "      <td>0</td>\n",
       "      <td>0</td>\n",
       "      <td>0</td>\n",
       "    </tr>\n",
       "    <tr>\n",
       "      <th>...</th>\n",
       "      <td>...</td>\n",
       "      <td>...</td>\n",
       "      <td>...</td>\n",
       "      <td>...</td>\n",
       "      <td>...</td>\n",
       "      <td>...</td>\n",
       "      <td>...</td>\n",
       "      <td>...</td>\n",
       "      <td>...</td>\n",
       "      <td>...</td>\n",
       "      <td>...</td>\n",
       "      <td>...</td>\n",
       "      <td>...</td>\n",
       "      <td>...</td>\n",
       "      <td>...</td>\n",
       "      <td>...</td>\n",
       "    </tr>\n",
       "    <tr>\n",
       "      <th>1012182</th>\n",
       "      <td>5150487</td>\n",
       "      <td>-25</td>\n",
       "      <td>-29</td>\n",
       "      <td>0</td>\n",
       "      <td>29</td>\n",
       "      <td>4</td>\n",
       "      <td>1</td>\n",
       "      <td>1</td>\n",
       "      <td>0</td>\n",
       "      <td>0</td>\n",
       "      <td>0.0</td>\n",
       "      <td>0</td>\n",
       "      <td>0</td>\n",
       "      <td>0</td>\n",
       "      <td>0</td>\n",
       "      <td>0</td>\n",
       "    </tr>\n",
       "    <tr>\n",
       "      <th>1012183</th>\n",
       "      <td>5150487</td>\n",
       "      <td>-26</td>\n",
       "      <td>-29</td>\n",
       "      <td>0</td>\n",
       "      <td>29</td>\n",
       "      <td>3</td>\n",
       "      <td>1</td>\n",
       "      <td>1</td>\n",
       "      <td>0</td>\n",
       "      <td>0</td>\n",
       "      <td>0.0</td>\n",
       "      <td>0</td>\n",
       "      <td>0</td>\n",
       "      <td>0</td>\n",
       "      <td>0</td>\n",
       "      <td>0</td>\n",
       "    </tr>\n",
       "    <tr>\n",
       "      <th>1012184</th>\n",
       "      <td>5150487</td>\n",
       "      <td>-27</td>\n",
       "      <td>-29</td>\n",
       "      <td>0</td>\n",
       "      <td>29</td>\n",
       "      <td>2</td>\n",
       "      <td>1</td>\n",
       "      <td>1</td>\n",
       "      <td>0</td>\n",
       "      <td>0</td>\n",
       "      <td>0.0</td>\n",
       "      <td>0</td>\n",
       "      <td>0</td>\n",
       "      <td>0</td>\n",
       "      <td>0</td>\n",
       "      <td>0</td>\n",
       "    </tr>\n",
       "    <tr>\n",
       "      <th>1012185</th>\n",
       "      <td>5150487</td>\n",
       "      <td>-28</td>\n",
       "      <td>-29</td>\n",
       "      <td>0</td>\n",
       "      <td>29</td>\n",
       "      <td>1</td>\n",
       "      <td>1</td>\n",
       "      <td>1</td>\n",
       "      <td>0</td>\n",
       "      <td>0</td>\n",
       "      <td>0.0</td>\n",
       "      <td>0</td>\n",
       "      <td>0</td>\n",
       "      <td>0</td>\n",
       "      <td>0</td>\n",
       "      <td>0</td>\n",
       "    </tr>\n",
       "    <tr>\n",
       "      <th>1012186</th>\n",
       "      <td>5150487</td>\n",
       "      <td>-29</td>\n",
       "      <td>-29</td>\n",
       "      <td>0</td>\n",
       "      <td>29</td>\n",
       "      <td>0</td>\n",
       "      <td>1</td>\n",
       "      <td>1</td>\n",
       "      <td>0</td>\n",
       "      <td>0</td>\n",
       "      <td>0.0</td>\n",
       "      <td>0</td>\n",
       "      <td>0</td>\n",
       "      <td>0</td>\n",
       "      <td>0</td>\n",
       "      <td>0</td>\n",
       "    </tr>\n",
       "  </tbody>\n",
       "</table>\n",
       "<p>1012187 rows × 16 columns</p>\n",
       "</div>"
      ],
      "text/plain": [
       "         ID_Cliente  Mes_referencia  Mes_inicio_conta  Mes_fim_conta  N_meses  \\\n",
       "0           5001712               0               -18              0       18   \n",
       "1           5001712              -1               -18              0       18   \n",
       "2           5001712              -2               -18              0       18   \n",
       "3           5001712              -3               -18              0       18   \n",
       "4           5001712              -4               -18              0       18   \n",
       "...             ...             ...               ...            ...      ...   \n",
       "1012182     5150487             -25               -29              0       29   \n",
       "1012183     5150487             -26               -29              0       29   \n",
       "1012184     5150487             -27               -29              0       29   \n",
       "1012185     5150487             -28               -29              0       29   \n",
       "1012186     5150487             -29               -29              0       29   \n",
       "\n",
       "         MOB  Cliente_ativo  Faixa_atraso  Mau_pagador  N_Mau_pagador  \\\n",
       "0         18              1             1            0              0   \n",
       "1         17              1             1            0              0   \n",
       "2         16              1             1            0              0   \n",
       "3         15              1             1            0              0   \n",
       "4         14              1             1            0              0   \n",
       "...      ...            ...           ...          ...            ...   \n",
       "1012182    4              1             1            0              0   \n",
       "1012183    3              1             1            0              0   \n",
       "1012184    2              1             1            0              0   \n",
       "1012185    1              1             1            0              0   \n",
       "1012186    0              1             1            0              0   \n",
       "\n",
       "         Ratio_Mau_pagador  Mau_60_dias  Mau_90_dias  Mau_120_dias  \\\n",
       "0                      0.0            0            0             0   \n",
       "1                      0.0            0            0             0   \n",
       "2                      0.0            0            0             0   \n",
       "3                      0.0            0            0             0   \n",
       "4                      0.0            0            0             0   \n",
       "...                    ...          ...          ...           ...   \n",
       "1012182                0.0            0            0             0   \n",
       "1012183                0.0            0            0             0   \n",
       "1012184                0.0            0            0             0   \n",
       "1012185                0.0            0            0             0   \n",
       "1012186                0.0            0            0             0   \n",
       "\n",
       "         Mau_150_dias  Mau_maior_150_dias  \n",
       "0                   0                   0  \n",
       "1                   0                   0  \n",
       "2                   0                   0  \n",
       "3                   0                   0  \n",
       "4                   0                   0  \n",
       "...               ...                 ...  \n",
       "1012182             0                   0  \n",
       "1012183             0                   0  \n",
       "1012184             0                   0  \n",
       "1012185             0                   0  \n",
       "1012186             0                   0  \n",
       "\n",
       "[1012187 rows x 16 columns]"
      ]
     },
     "execution_count": 92,
     "metadata": {},
     "output_type": "execute_result"
    }
   ],
   "source": [
    "df_aprovados_pagadores_filtered"
   ]
  },
  {
   "cell_type": "code",
   "execution_count": 83,
   "metadata": {},
   "outputs": [
    {
     "data": {
      "text/html": [
       "<div>\n",
       "<style scoped>\n",
       "    .dataframe tbody tr th:only-of-type {\n",
       "        vertical-align: middle;\n",
       "    }\n",
       "\n",
       "    .dataframe tbody tr th {\n",
       "        vertical-align: top;\n",
       "    }\n",
       "\n",
       "    .dataframe thead th {\n",
       "        text-align: right;\n",
       "    }\n",
       "</style>\n",
       "<table border=\"1\" class=\"dataframe\">\n",
       "  <thead>\n",
       "    <tr style=\"text-align: right;\">\n",
       "      <th></th>\n",
       "      <th>ID_Cliente</th>\n",
       "      <th>Mes_referencia</th>\n",
       "      <th>Mes_inicio_conta</th>\n",
       "      <th>Mes_fim_conta</th>\n",
       "      <th>N_meses</th>\n",
       "      <th>MOB</th>\n",
       "      <th>Cliente_ativo</th>\n",
       "      <th>Faixa_atraso</th>\n",
       "      <th>Mau_pagador</th>\n",
       "      <th>N_Mau_pagador</th>\n",
       "      <th>Ratio_Mau_pagador</th>\n",
       "      <th>Mau_60_dias</th>\n",
       "      <th>Mau_90_dias</th>\n",
       "      <th>Mau_120_dias</th>\n",
       "      <th>Mau_150_dias</th>\n",
       "      <th>Mau_maior_150_dias</th>\n",
       "    </tr>\n",
       "  </thead>\n",
       "  <tbody>\n",
       "    <tr>\n",
       "      <th>9</th>\n",
       "      <td>5001712</td>\n",
       "      <td>-9</td>\n",
       "      <td>-18</td>\n",
       "      <td>0</td>\n",
       "      <td>18</td>\n",
       "      <td>9</td>\n",
       "      <td>1</td>\n",
       "      <td>2</td>\n",
       "      <td>0</td>\n",
       "      <td>0</td>\n",
       "      <td>0.0</td>\n",
       "      <td>0</td>\n",
       "      <td>0</td>\n",
       "      <td>0</td>\n",
       "      <td>0</td>\n",
       "      <td>0</td>\n",
       "    </tr>\n",
       "    <tr>\n",
       "      <th>10</th>\n",
       "      <td>5001712</td>\n",
       "      <td>-10</td>\n",
       "      <td>-18</td>\n",
       "      <td>0</td>\n",
       "      <td>18</td>\n",
       "      <td>8</td>\n",
       "      <td>1</td>\n",
       "      <td>2</td>\n",
       "      <td>0</td>\n",
       "      <td>0</td>\n",
       "      <td>0.0</td>\n",
       "      <td>0</td>\n",
       "      <td>0</td>\n",
       "      <td>0</td>\n",
       "      <td>0</td>\n",
       "      <td>0</td>\n",
       "    </tr>\n",
       "    <tr>\n",
       "      <th>11</th>\n",
       "      <td>5001712</td>\n",
       "      <td>-11</td>\n",
       "      <td>-18</td>\n",
       "      <td>0</td>\n",
       "      <td>18</td>\n",
       "      <td>7</td>\n",
       "      <td>1</td>\n",
       "      <td>2</td>\n",
       "      <td>0</td>\n",
       "      <td>0</td>\n",
       "      <td>0.0</td>\n",
       "      <td>0</td>\n",
       "      <td>0</td>\n",
       "      <td>0</td>\n",
       "      <td>0</td>\n",
       "      <td>0</td>\n",
       "    </tr>\n",
       "    <tr>\n",
       "      <th>12</th>\n",
       "      <td>5001712</td>\n",
       "      <td>-12</td>\n",
       "      <td>-18</td>\n",
       "      <td>0</td>\n",
       "      <td>18</td>\n",
       "      <td>6</td>\n",
       "      <td>1</td>\n",
       "      <td>2</td>\n",
       "      <td>0</td>\n",
       "      <td>0</td>\n",
       "      <td>0.0</td>\n",
       "      <td>0</td>\n",
       "      <td>0</td>\n",
       "      <td>0</td>\n",
       "      <td>0</td>\n",
       "      <td>0</td>\n",
       "    </tr>\n",
       "    <tr>\n",
       "      <th>13</th>\n",
       "      <td>5001712</td>\n",
       "      <td>-13</td>\n",
       "      <td>-18</td>\n",
       "      <td>0</td>\n",
       "      <td>18</td>\n",
       "      <td>5</td>\n",
       "      <td>1</td>\n",
       "      <td>2</td>\n",
       "      <td>0</td>\n",
       "      <td>0</td>\n",
       "      <td>0.0</td>\n",
       "      <td>0</td>\n",
       "      <td>0</td>\n",
       "      <td>0</td>\n",
       "      <td>0</td>\n",
       "      <td>0</td>\n",
       "    </tr>\n",
       "    <tr>\n",
       "      <th>...</th>\n",
       "      <td>...</td>\n",
       "      <td>...</td>\n",
       "      <td>...</td>\n",
       "      <td>...</td>\n",
       "      <td>...</td>\n",
       "      <td>...</td>\n",
       "      <td>...</td>\n",
       "      <td>...</td>\n",
       "      <td>...</td>\n",
       "      <td>...</td>\n",
       "      <td>...</td>\n",
       "      <td>...</td>\n",
       "      <td>...</td>\n",
       "      <td>...</td>\n",
       "      <td>...</td>\n",
       "      <td>...</td>\n",
       "    </tr>\n",
       "    <tr>\n",
       "      <th>1012152</th>\n",
       "      <td>5150484</td>\n",
       "      <td>-8</td>\n",
       "      <td>-12</td>\n",
       "      <td>0</td>\n",
       "      <td>12</td>\n",
       "      <td>4</td>\n",
       "      <td>1</td>\n",
       "      <td>2</td>\n",
       "      <td>0</td>\n",
       "      <td>0</td>\n",
       "      <td>0.0</td>\n",
       "      <td>0</td>\n",
       "      <td>0</td>\n",
       "      <td>0</td>\n",
       "      <td>0</td>\n",
       "      <td>0</td>\n",
       "    </tr>\n",
       "    <tr>\n",
       "      <th>1012153</th>\n",
       "      <td>5150484</td>\n",
       "      <td>-9</td>\n",
       "      <td>-12</td>\n",
       "      <td>0</td>\n",
       "      <td>12</td>\n",
       "      <td>3</td>\n",
       "      <td>1</td>\n",
       "      <td>2</td>\n",
       "      <td>0</td>\n",
       "      <td>0</td>\n",
       "      <td>0.0</td>\n",
       "      <td>0</td>\n",
       "      <td>0</td>\n",
       "      <td>0</td>\n",
       "      <td>0</td>\n",
       "      <td>0</td>\n",
       "    </tr>\n",
       "    <tr>\n",
       "      <th>1012154</th>\n",
       "      <td>5150484</td>\n",
       "      <td>-10</td>\n",
       "      <td>-12</td>\n",
       "      <td>0</td>\n",
       "      <td>12</td>\n",
       "      <td>2</td>\n",
       "      <td>1</td>\n",
       "      <td>2</td>\n",
       "      <td>0</td>\n",
       "      <td>0</td>\n",
       "      <td>0.0</td>\n",
       "      <td>0</td>\n",
       "      <td>0</td>\n",
       "      <td>0</td>\n",
       "      <td>0</td>\n",
       "      <td>0</td>\n",
       "    </tr>\n",
       "    <tr>\n",
       "      <th>1012155</th>\n",
       "      <td>5150484</td>\n",
       "      <td>-11</td>\n",
       "      <td>-12</td>\n",
       "      <td>0</td>\n",
       "      <td>12</td>\n",
       "      <td>1</td>\n",
       "      <td>1</td>\n",
       "      <td>2</td>\n",
       "      <td>0</td>\n",
       "      <td>0</td>\n",
       "      <td>0.0</td>\n",
       "      <td>0</td>\n",
       "      <td>0</td>\n",
       "      <td>0</td>\n",
       "      <td>0</td>\n",
       "      <td>0</td>\n",
       "    </tr>\n",
       "    <tr>\n",
       "      <th>1012156</th>\n",
       "      <td>5150484</td>\n",
       "      <td>-12</td>\n",
       "      <td>-12</td>\n",
       "      <td>0</td>\n",
       "      <td>12</td>\n",
       "      <td>0</td>\n",
       "      <td>1</td>\n",
       "      <td>2</td>\n",
       "      <td>0</td>\n",
       "      <td>0</td>\n",
       "      <td>0.0</td>\n",
       "      <td>0</td>\n",
       "      <td>0</td>\n",
       "      <td>0</td>\n",
       "      <td>0</td>\n",
       "      <td>0</td>\n",
       "    </tr>\n",
       "  </tbody>\n",
       "</table>\n",
       "<p>370835 rows × 16 columns</p>\n",
       "</div>"
      ],
      "text/plain": [
       "         ID_Cliente  Mes_referencia  Mes_inicio_conta  Mes_fim_conta  N_meses  \\\n",
       "9           5001712              -9               -18              0       18   \n",
       "10          5001712             -10               -18              0       18   \n",
       "11          5001712             -11               -18              0       18   \n",
       "12          5001712             -12               -18              0       18   \n",
       "13          5001712             -13               -18              0       18   \n",
       "...             ...             ...               ...            ...      ...   \n",
       "1012152     5150484              -8               -12              0       12   \n",
       "1012153     5150484              -9               -12              0       12   \n",
       "1012154     5150484             -10               -12              0       12   \n",
       "1012155     5150484             -11               -12              0       12   \n",
       "1012156     5150484             -12               -12              0       12   \n",
       "\n",
       "         MOB  Cliente_ativo  Faixa_atraso  Mau_pagador  N_Mau_pagador  \\\n",
       "9          9              1             2            0              0   \n",
       "10         8              1             2            0              0   \n",
       "11         7              1             2            0              0   \n",
       "12         6              1             2            0              0   \n",
       "13         5              1             2            0              0   \n",
       "...      ...            ...           ...          ...            ...   \n",
       "1012152    4              1             2            0              0   \n",
       "1012153    3              1             2            0              0   \n",
       "1012154    2              1             2            0              0   \n",
       "1012155    1              1             2            0              0   \n",
       "1012156    0              1             2            0              0   \n",
       "\n",
       "         Ratio_Mau_pagador  Mau_60_dias  Mau_90_dias  Mau_120_dias  \\\n",
       "9                      0.0            0            0             0   \n",
       "10                     0.0            0            0             0   \n",
       "11                     0.0            0            0             0   \n",
       "12                     0.0            0            0             0   \n",
       "13                     0.0            0            0             0   \n",
       "...                    ...          ...          ...           ...   \n",
       "1012152                0.0            0            0             0   \n",
       "1012153                0.0            0            0             0   \n",
       "1012154                0.0            0            0             0   \n",
       "1012155                0.0            0            0             0   \n",
       "1012156                0.0            0            0             0   \n",
       "\n",
       "         Mau_150_dias  Mau_maior_150_dias  \n",
       "9                   0                   0  \n",
       "10                  0                   0  \n",
       "11                  0                   0  \n",
       "12                  0                   0  \n",
       "13                  0                   0  \n",
       "...               ...                 ...  \n",
       "1012152             0                   0  \n",
       "1012153             0                   0  \n",
       "1012154             0                   0  \n",
       "1012155             0                   0  \n",
       "1012156             0                   0  \n",
       "\n",
       "[370835 rows x 16 columns]"
      ]
     },
     "execution_count": 83,
     "metadata": {},
     "output_type": "execute_result"
    }
   ],
   "source": [
    "df_aprovados_pagadores_filtered.query('Faixa_atraso in [2,3,4]')"
   ]
  },
  {
   "cell_type": "code",
   "execution_count": null,
   "metadata": {},
   "outputs": [],
   "source": [
    "def verifica(registros):\n",
    "  lista_status = registros['Faixa_atraso'].to_list()\n",
    "  if '60-89 dias' in lista_status or '90-119 dias' in lista_status or '120-149 dias' in lista_status or '>150 dias' in lista_status:\n",
    "    return 1\n",
    "  else:\n",
    "    return 0"
   ]
  }
 ],
 "metadata": {
  "kernelspec": {
   "display_name": "pyspark_env",
   "language": "python",
   "name": "python3"
  },
  "language_info": {
   "codemirror_mode": {
    "name": "ipython",
    "version": 3
   },
   "file_extension": ".py",
   "mimetype": "text/x-python",
   "name": "python",
   "nbconvert_exporter": "python",
   "pygments_lexer": "ipython3",
   "version": "3.10.9"
  }
 },
 "nbformat": 4,
 "nbformat_minor": 2
}
