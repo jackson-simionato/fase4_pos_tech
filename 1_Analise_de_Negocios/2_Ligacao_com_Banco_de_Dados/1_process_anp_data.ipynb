{
 "cells": [
  {
   "cell_type": "code",
   "execution_count": 6,
   "metadata": {},
   "outputs": [],
   "source": [
    "import pandas as pd\n",
    "import os, datetime\n",
    "import psycopg2\n",
    "from sqlalchemy import create_engine"
   ]
  },
  {
   "cell_type": "markdown",
   "metadata": {},
   "source": [
    "# Lista de arquivos"
   ]
  },
  {
   "cell_type": "code",
   "execution_count": 10,
   "metadata": {},
   "outputs": [
    {
     "name": "stdout",
     "output_type": "stream",
     "text": [
      "['../dados/anp_combustivel/ca-2018-01.csv', '../dados/anp_combustivel/ca-2018-02.csv', '../dados/anp_combustivel/ca-2019-01.csv', '../dados/anp_combustivel/ca-2019-02.csv', '../dados/anp_combustivel/ca-2020-01.csv', '../dados/anp_combustivel/ca-2020-02.csv', '../dados/anp_combustivel/ca-2021-01.csv', '../dados/anp_combustivel/ca-2021-02.csv', '../dados/anp_combustivel/ca-2022-01.csv', '../dados/anp_combustivel/ca-2022-02.csv']\n"
     ]
    }
   ],
   "source": [
    "data_folder = '../dados/anp_combustivel/'\n",
    "\n",
    "list_csvs = [os.path.join(data_folder, file) for file in os.listdir(data_folder) if file.endswith('.csv')]\n",
    "\n",
    "print(list_csvs)"
   ]
  },
  {
   "cell_type": "markdown",
   "metadata": {},
   "source": [
    "# Nomes de colunas"
   ]
  },
  {
   "cell_type": "code",
   "execution_count": 11,
   "metadata": {},
   "outputs": [],
   "source": [
    "new_cols = ['regiao','uf','municipio','revenda','cnpj','nome_rua','numero_rua','complemento',\n",
    "'bairro','cep','produto','data_coleta','valor_venda','valor_compra','unidade_medida','bandeira']"
   ]
  },
  {
   "cell_type": "markdown",
   "metadata": {},
   "source": [
    "# Concatenação de csvs e conversão de tipos de dados"
   ]
  },
  {
   "cell_type": "code",
   "execution_count": 12,
   "metadata": {},
   "outputs": [
    {
     "name": "stdout",
     "output_type": "stream",
     "text": [
      "../dados/anp_combustivel/ca-2018-01.csv\n",
      "../dados/anp_combustivel/ca-2018-02.csv\n",
      "../dados/anp_combustivel/ca-2019-01.csv\n",
      "../dados/anp_combustivel/ca-2019-02.csv\n",
      "../dados/anp_combustivel/ca-2020-01.csv\n",
      "../dados/anp_combustivel/ca-2020-02.csv\n"
     ]
    },
    {
     "name": "stderr",
     "output_type": "stream",
     "text": [
      "C:\\Users\\Jackson Simionato\\AppData\\Local\\Temp\\ipykernel_24696\\2545707987.py:7: DtypeWarning: Columns (13) have mixed types. Specify dtype option on import or set low_memory=False.\n",
      "  df_anp = pd.read_csv(file, sep=';', encoding='utf-8')\n"
     ]
    },
    {
     "name": "stdout",
     "output_type": "stream",
     "text": [
      "../dados/anp_combustivel/ca-2021-01.csv\n",
      "../dados/anp_combustivel/ca-2021-02.csv\n",
      "../dados/anp_combustivel/ca-2022-01.csv\n",
      "../dados/anp_combustivel/ca-2022-02.csv\n"
     ]
    }
   ],
   "source": [
    "final_df_anp = pd.DataFrame()\n",
    "\n",
    "for file in list_csvs:\n",
    "    print(file)\n",
    "\n",
    "    try:\n",
    "        df_anp = pd.read_csv(file, sep=';', encoding='utf-8')\n",
    "    except:\n",
    "        df_anp = pd.read_csv(file, sep=';', encoding='latin-1')\n",
    "\n",
    "\n",
    "    df_anp[['Valor de Venda','Valor de Compra']] = df_anp[['Valor de Venda','Valor de Compra']].astype(str).apply(lambda x: x.str.replace(',','.'))\n",
    "    df_anp[['Valor de Venda','Valor de Compra']] = df_anp[['Valor de Venda','Valor de Compra']].astype(float)\n",
    "\n",
    "    df_anp['Data da Coleta'] = pd.to_datetime(df_anp['Data da Coleta'], format='%d/%m/%Y')\n",
    "\n",
    "    if len(final_df_anp) == 0:\n",
    "        final_df_anp = df_anp.copy()\n",
    "    else:\n",
    "        final_df_anp = pd.concat([final_df_anp, df_anp], axis=0)\n",
    "\n",
    "final_df_anp.columns = new_cols"
   ]
  },
  {
   "cell_type": "markdown",
   "metadata": {},
   "source": [
    "# Seleção de colunas de interesse"
   ]
  },
  {
   "cell_type": "code",
   "execution_count": 13,
   "metadata": {},
   "outputs": [
    {
     "data": {
      "text/html": [
       "<div>\n",
       "<style scoped>\n",
       "    .dataframe tbody tr th:only-of-type {\n",
       "        vertical-align: middle;\n",
       "    }\n",
       "\n",
       "    .dataframe tbody tr th {\n",
       "        vertical-align: top;\n",
       "    }\n",
       "\n",
       "    .dataframe thead th {\n",
       "        text-align: right;\n",
       "    }\n",
       "</style>\n",
       "<table border=\"1\" class=\"dataframe\">\n",
       "  <thead>\n",
       "    <tr style=\"text-align: right;\">\n",
       "      <th></th>\n",
       "      <th>regiao</th>\n",
       "      <th>uf</th>\n",
       "      <th>municipio</th>\n",
       "      <th>revenda</th>\n",
       "      <th>cnpj</th>\n",
       "      <th>nome_rua</th>\n",
       "      <th>numero_rua</th>\n",
       "      <th>complemento</th>\n",
       "      <th>bairro</th>\n",
       "      <th>cep</th>\n",
       "      <th>produto</th>\n",
       "      <th>data_coleta</th>\n",
       "      <th>valor_venda</th>\n",
       "      <th>unidade_medida</th>\n",
       "      <th>bandeira</th>\n",
       "    </tr>\n",
       "  </thead>\n",
       "  <tbody>\n",
       "    <tr>\n",
       "      <th>0</th>\n",
       "      <td>NE</td>\n",
       "      <td>BA</td>\n",
       "      <td>SALVADOR</td>\n",
       "      <td>PETROBRAS DISTRIBUIDORA S.A.</td>\n",
       "      <td>34.274.233/0015-08</td>\n",
       "      <td>RUA EDISTIO PONDE</td>\n",
       "      <td>474</td>\n",
       "      <td>NaN</td>\n",
       "      <td>STIEP</td>\n",
       "      <td>41770-395</td>\n",
       "      <td>GNV</td>\n",
       "      <td>2018-01-02</td>\n",
       "      <td>2.370</td>\n",
       "      <td>R$ / m³</td>\n",
       "      <td>PETROBRAS DISTRIBUIDORA S.A.</td>\n",
       "    </tr>\n",
       "    <tr>\n",
       "      <th>1</th>\n",
       "      <td>NE</td>\n",
       "      <td>BA</td>\n",
       "      <td>SALVADOR</td>\n",
       "      <td>PETROBRAS DISTRIBUIDORA S.A.</td>\n",
       "      <td>34.274.233/0015-08</td>\n",
       "      <td>RUA EDISTIO PONDE</td>\n",
       "      <td>474</td>\n",
       "      <td>NaN</td>\n",
       "      <td>STIEP</td>\n",
       "      <td>41770-395</td>\n",
       "      <td>DIESEL S10</td>\n",
       "      <td>2018-01-02</td>\n",
       "      <td>3.240</td>\n",
       "      <td>R$ / litro</td>\n",
       "      <td>PETROBRAS DISTRIBUIDORA S.A.</td>\n",
       "    </tr>\n",
       "    <tr>\n",
       "      <th>2</th>\n",
       "      <td>NE</td>\n",
       "      <td>BA</td>\n",
       "      <td>SALVADOR</td>\n",
       "      <td>PETROBRAS DISTRIBUIDORA S.A.</td>\n",
       "      <td>34.274.233/0015-08</td>\n",
       "      <td>RUA EDISTIO PONDE</td>\n",
       "      <td>474</td>\n",
       "      <td>NaN</td>\n",
       "      <td>STIEP</td>\n",
       "      <td>41770-395</td>\n",
       "      <td>ETANOL</td>\n",
       "      <td>2018-01-02</td>\n",
       "      <td>2.930</td>\n",
       "      <td>R$ / litro</td>\n",
       "      <td>PETROBRAS DISTRIBUIDORA S.A.</td>\n",
       "    </tr>\n",
       "    <tr>\n",
       "      <th>3</th>\n",
       "      <td>NE</td>\n",
       "      <td>BA</td>\n",
       "      <td>SALVADOR</td>\n",
       "      <td>PETROBRAS DISTRIBUIDORA S.A.</td>\n",
       "      <td>34.274.233/0015-08</td>\n",
       "      <td>RUA EDISTIO PONDE</td>\n",
       "      <td>474</td>\n",
       "      <td>NaN</td>\n",
       "      <td>STIEP</td>\n",
       "      <td>41770-395</td>\n",
       "      <td>GASOLINA</td>\n",
       "      <td>2018-01-02</td>\n",
       "      <td>3.620</td>\n",
       "      <td>R$ / litro</td>\n",
       "      <td>PETROBRAS DISTRIBUIDORA S.A.</td>\n",
       "    </tr>\n",
       "    <tr>\n",
       "      <th>4</th>\n",
       "      <td>S</td>\n",
       "      <td>RS</td>\n",
       "      <td>CANOAS</td>\n",
       "      <td>METROPOLITANO COMERCIO DE COMBUSTIVEIS LTDA</td>\n",
       "      <td>88.587.589/0001-17</td>\n",
       "      <td>AVENIDA GUILHERME SCHELL</td>\n",
       "      <td>6340</td>\n",
       "      <td>NaN</td>\n",
       "      <td>CENTRO</td>\n",
       "      <td>92310-000</td>\n",
       "      <td>GNV</td>\n",
       "      <td>2018-01-02</td>\n",
       "      <td>2.699</td>\n",
       "      <td>R$ / m³</td>\n",
       "      <td>BRANCA</td>\n",
       "    </tr>\n",
       "  </tbody>\n",
       "</table>\n",
       "</div>"
      ],
      "text/plain": [
       "  regiao  uf municipio                                      revenda  \\\n",
       "0     NE  BA  SALVADOR                 PETROBRAS DISTRIBUIDORA S.A.   \n",
       "1     NE  BA  SALVADOR                 PETROBRAS DISTRIBUIDORA S.A.   \n",
       "2     NE  BA  SALVADOR                 PETROBRAS DISTRIBUIDORA S.A.   \n",
       "3     NE  BA  SALVADOR                 PETROBRAS DISTRIBUIDORA S.A.   \n",
       "4      S  RS    CANOAS  METROPOLITANO COMERCIO DE COMBUSTIVEIS LTDA   \n",
       "\n",
       "                  cnpj                  nome_rua numero_rua complemento  \\\n",
       "0   34.274.233/0015-08         RUA EDISTIO PONDE        474         NaN   \n",
       "1   34.274.233/0015-08         RUA EDISTIO PONDE        474         NaN   \n",
       "2   34.274.233/0015-08         RUA EDISTIO PONDE        474         NaN   \n",
       "3   34.274.233/0015-08         RUA EDISTIO PONDE        474         NaN   \n",
       "4   88.587.589/0001-17  AVENIDA GUILHERME SCHELL       6340         NaN   \n",
       "\n",
       "   bairro        cep     produto data_coleta  valor_venda unidade_medida  \\\n",
       "0   STIEP  41770-395         GNV  2018-01-02        2.370        R$ / m³   \n",
       "1   STIEP  41770-395  DIESEL S10  2018-01-02        3.240     R$ / litro   \n",
       "2   STIEP  41770-395      ETANOL  2018-01-02        2.930     R$ / litro   \n",
       "3   STIEP  41770-395    GASOLINA  2018-01-02        3.620     R$ / litro   \n",
       "4  CENTRO  92310-000         GNV  2018-01-02        2.699        R$ / m³   \n",
       "\n",
       "                       bandeira  \n",
       "0  PETROBRAS DISTRIBUIDORA S.A.  \n",
       "1  PETROBRAS DISTRIBUIDORA S.A.  \n",
       "2  PETROBRAS DISTRIBUIDORA S.A.  \n",
       "3  PETROBRAS DISTRIBUIDORA S.A.  \n",
       "4                        BRANCA  "
      ]
     },
     "execution_count": 13,
     "metadata": {},
     "output_type": "execute_result"
    }
   ],
   "source": [
    "final_df_anp_db = final_df_anp.drop(columns=['valor_compra'])\n",
    "final_df_anp_db.head()"
   ]
  },
  {
   "cell_type": "code",
   "execution_count": 14,
   "metadata": {},
   "outputs": [],
   "source": [
    "final_df_anp_db.to_csv('../dados/anp_combustivel/anp_combustivel_2018_2022.csv', index=False, encoding='utf-8')"
   ]
  },
  {
   "cell_type": "markdown",
   "metadata": {},
   "source": [
    "# Conexão com banco"
   ]
  },
  {
   "cell_type": "code",
   "execution_count": 15,
   "metadata": {},
   "outputs": [],
   "source": [
    "user = 'postgres'\n",
    "password = 'postgres'\n",
    "host = 'localhost:5432'\n",
    "database = 'ANP'\n",
    "table_name = 'preco_combustivel'\n",
    "schema_name = 'anp'\n",
    "\n",
    "conn_string = f'postgresql+psycopg2://{user}:{password}@{host}/{database}'\n"
   ]
  },
  {
   "cell_type": "code",
   "execution_count": 16,
   "metadata": {},
   "outputs": [],
   "source": [
    "engine = create_engine(conn_string)"
   ]
  },
  {
   "cell_type": "code",
   "execution_count": 20,
   "metadata": {},
   "outputs": [],
   "source": [
    "connction = engine.connect()"
   ]
  },
  {
   "cell_type": "code",
   "execution_count": 22,
   "metadata": {},
   "outputs": [
    {
     "ename": "ObjectNotExecutableError",
     "evalue": "Not an executable object: 'SELECT version()'",
     "output_type": "error",
     "traceback": [
      "\u001b[1;31m---------------------------------------------------------------------------\u001b[0m",
      "\u001b[1;31mAttributeError\u001b[0m                            Traceback (most recent call last)",
      "File \u001b[1;32mc:\\Users\\Jackson Simionato\\.conda\\envs\\pyspark_env\\lib\\site-packages\\sqlalchemy\\engine\\base.py:1412\u001b[0m, in \u001b[0;36mConnection.execute\u001b[1;34m(self, statement, parameters, execution_options)\u001b[0m\n\u001b[0;32m   1411\u001b[0m \u001b[39mtry\u001b[39;00m:\n\u001b[1;32m-> 1412\u001b[0m     meth \u001b[39m=\u001b[39m statement\u001b[39m.\u001b[39;49m_execute_on_connection\n\u001b[0;32m   1413\u001b[0m \u001b[39mexcept\u001b[39;00m \u001b[39mAttributeError\u001b[39;00m \u001b[39mas\u001b[39;00m err:\n",
      "\u001b[1;31mAttributeError\u001b[0m: 'str' object has no attribute '_execute_on_connection'",
      "\nThe above exception was the direct cause of the following exception:\n",
      "\u001b[1;31mObjectNotExecutableError\u001b[0m                  Traceback (most recent call last)",
      "\u001b[1;32md:\\jackson\\SR_agricola\\PDI_2023\\pos_alura_tech\\fase4_post_tech\\2_Ligacao_com_Banco_de_Dados\\1_process_anp_data.ipynb Cell 15\u001b[0m line \u001b[0;36m1\n\u001b[1;32m----> <a href='vscode-notebook-cell:/d%3A/jackson/SR_agricola/PDI_2023/pos_alura_tech/fase4_post_tech/2_Ligacao_com_Banco_de_Dados/1_process_anp_data.ipynb#X22sZmlsZQ%3D%3D?line=0'>1</a>\u001b[0m connction\u001b[39m.\u001b[39;49mexecute(\u001b[39m'\u001b[39;49m\u001b[39mSELECT version()\u001b[39;49m\u001b[39m'\u001b[39;49m)\n",
      "File \u001b[1;32mc:\\Users\\Jackson Simionato\\.conda\\envs\\pyspark_env\\lib\\site-packages\\sqlalchemy\\engine\\base.py:1414\u001b[0m, in \u001b[0;36mConnection.execute\u001b[1;34m(self, statement, parameters, execution_options)\u001b[0m\n\u001b[0;32m   1412\u001b[0m     meth \u001b[39m=\u001b[39m statement\u001b[39m.\u001b[39m_execute_on_connection\n\u001b[0;32m   1413\u001b[0m \u001b[39mexcept\u001b[39;00m \u001b[39mAttributeError\u001b[39;00m \u001b[39mas\u001b[39;00m err:\n\u001b[1;32m-> 1414\u001b[0m     \u001b[39mraise\u001b[39;00m exc\u001b[39m.\u001b[39mObjectNotExecutableError(statement) \u001b[39mfrom\u001b[39;00m \u001b[39merr\u001b[39;00m\n\u001b[0;32m   1415\u001b[0m \u001b[39melse\u001b[39;00m:\n\u001b[0;32m   1416\u001b[0m     \u001b[39mreturn\u001b[39;00m meth(\n\u001b[0;32m   1417\u001b[0m         \u001b[39mself\u001b[39m,\n\u001b[0;32m   1418\u001b[0m         distilled_parameters,\n\u001b[0;32m   1419\u001b[0m         execution_options \u001b[39mor\u001b[39;00m NO_OPTIONS,\n\u001b[0;32m   1420\u001b[0m     )\n",
      "\u001b[1;31mObjectNotExecutableError\u001b[0m: Not an executable object: 'SELECT version()'"
     ]
    }
   ],
   "source": [
    "connction.execute('SELECT version()')"
   ]
  },
  {
   "cell_type": "code",
   "execution_count": 23,
   "metadata": {},
   "outputs": [
    {
     "name": "stdout",
     "output_type": "stream",
     "text": [
      "Connection successful\n",
      "Database version: PostgreSQL 16.0, compiled by Visual C++ build 1935, 64-bit\n"
     ]
    }
   ],
   "source": [
    "from sqlalchemy.exc import OperationalError\n",
    "from sqlalchemy import text\n",
    "try:\n",
    "    # Test the connection by making a dummy query (e.g., selecting version for PostgreSQL)\n",
    "    with engine.connect() as connection:\n",
    "        result = connection.execute(text('SELECT version()'))\n",
    "        print(\"Connection successful\")\n",
    "        for row in result:\n",
    "            print(\"Database version:\", row[0])\n",
    "except OperationalError as e:\n",
    "    print(\"Connection failed:\", e)"
   ]
  },
  {
   "cell_type": "code",
   "execution_count": 27,
   "metadata": {},
   "outputs": [],
   "source": [
    "final_df_anp_db.to_sql(name=table_name, con=engine, schema=schema_name, if_exists='replace', index=False, method='multi')"
   ]
  }
 ],
 "metadata": {
  "kernelspec": {
   "display_name": "tech_challenge",
   "language": "python",
   "name": "python3"
  },
  "language_info": {
   "codemirror_mode": {
    "name": "ipython",
    "version": 3
   },
   "file_extension": ".py",
   "mimetype": "text/x-python",
   "name": "python",
   "nbconvert_exporter": "python",
   "pygments_lexer": "ipython3",
   "version": "0.0.0"
  }
 },
 "nbformat": 4,
 "nbformat_minor": 2
}
